{
 "cells": [
  {
   "cell_type": "markdown",
   "metadata": {},
   "source": [
    "# Db2 External Tables with Cloud Storage\n",
    "\n",
    "\n",
    "##### This notebook runs the queries shown in my db2Dean article\n",
    "\n",
    "See:  http://www.db2dean.com/Previous/ExternalTablesCloud.html\n",
    "\n"
   ]
  },
  {
   "cell_type": "markdown",
   "metadata": {},
   "source": [
    "### download the db2.ipynb notebook from Git to allow the Db2 Magic Commands"
   ]
  },
  {
   "cell_type": "code",
   "execution_count": 1,
   "metadata": {},
   "outputs": [
    {
     "name": "stdout",
     "output_type": "stream",
     "text": [
      "Pixiedust database opened successfully\n"
     ]
    },
    {
     "data": {
      "text/html": [
       "\n",
       "        <div style=\"margin:10px\">\n",
       "            <a href=\"https://github.com/ibm-watson-data-lab/pixiedust\" target=\"_new\">\n",
       "                <img src=\"https://github.com/ibm-watson-data-lab/pixiedust/raw/master/docs/_static/pd_icon32.png\" style=\"float:left;margin-right:10px\"/>\n",
       "            </a>\n",
       "            <span>Pixiedust version 1.1.15</span>\n",
       "        </div>\n",
       "        "
      ],
      "text/plain": [
       "<IPython.core.display.HTML object>"
      ]
     },
     "metadata": {},
     "output_type": "display_data"
    },
    {
     "data": {
      "text/html": [
       "<div>Warning: You are not running the latest version of PixieDust. Current is 1.1.15, Latest is 1.1.18</div>"
      ],
      "text/plain": [
       "<IPython.core.display.HTML object>"
      ]
     },
     "metadata": {},
     "output_type": "display_data"
    },
    {
     "data": {
      "text/html": [
       "\n",
       "                <div>Please copy and run the following command in a new cell to upgrade: <span style=\"background-color:#ececec;font-family:monospace;padding:0 5px\">!pip install --user --upgrade pixiedust</span></div>\n",
       "            "
      ],
      "text/plain": [
       "<IPython.core.display.HTML object>"
      ]
     },
     "metadata": {},
     "output_type": "display_data"
    },
    {
     "data": {
      "text/html": [
       "<div>Please restart kernel after upgrading.</div>"
      ],
      "text/plain": [
       "<IPython.core.display.HTML object>"
      ]
     },
     "metadata": {},
     "output_type": "display_data"
    },
    {
     "name": "stdout",
     "output_type": "stream",
     "text": [
      "DB2 Extensions Loaded.\n"
     ]
    },
    {
     "data": {
      "text/html": [
       "<style>\n",
       "  table {margin-left: 0 !important; text-align: left;}\n",
       "</style>"
      ],
      "text/plain": [
       "<IPython.core.display.HTML object>"
      ]
     },
     "metadata": {},
     "output_type": "display_data"
    }
   ],
   "source": [
    "%run db2.ipynb"
   ]
  },
  {
   "cell_type": "markdown",
   "metadata": {},
   "source": [
    "Connect to your db2 11.5 or above database.  "
   ]
  },
  {
   "cell_type": "code",
   "execution_count": 2,
   "metadata": {
    "pixiedust": {
     "displayParams": {}
    }
   },
   "outputs": [
    {
     "name": "stdout",
     "output_type": "stream",
     "text": [
      "Password [password]: ········\n",
      "Connection successful.\n"
     ]
    }
   ],
   "source": [
    "%sql CONNECT TO sample USER db2inst1 USING ? HOST 192.168.0.17 PORT 50000"
   ]
  },
  {
   "cell_type": "code",
   "execution_count": 4,
   "metadata": {},
   "outputs": [
    {
     "name": "stdout",
     "output_type": "stream",
     "text": [
      "Connection closed.\n"
     ]
    }
   ],
   "source": [
    "%sql CONNECT RESET"
   ]
  },
  {
   "cell_type": "markdown",
   "metadata": {},
   "source": [
    "##### Create the external  table for the hospital readmission file.\n",
    "Make sure to change the cloud credentials, file name and bucket name"
   ]
  },
  {
   "cell_type": "code",
   "execution_count": 18,
   "metadata": {},
   "outputs": [
    {
     "name": "stdout",
     "output_type": "stream",
     "text": [
      "Command completed.\n"
     ]
    }
   ],
   "source": [
    "%%sql -a \n",
    "DROP TABLE dean.HOSPITAL_READMISSION_EXT;\n",
    "CREATE EXTERNAL TABLE DEAN.HOSPITAL_READMISSION_EXT\n",
    "   (HOSPITAL_NAME VARCHAR(200)  ,               \n",
    "    PROVIDER_NUMBER INTEGER  ,              \n",
    "    STATE VARCHAR(4)  ,                        \n",
    "    MEASURE_NAME VARCHAR(30)  ,                \n",
    "    NUMBER_OF_DISCHARGES INTEGER,\n",
    "    FOOTNOTE VARCHAR(4)  ,                     \n",
    "    EXCESS_READMISSION_RATIO DECIMAL(20,4),\n",
    "    PREDICTED_READMISSION_RATE DECIMAL(20,4),\n",
    "    EXPECTED_READMISSION_RATE DECIMAL(20,4),\n",
    "    NUMBER_OF_READMISSIONS INTEGER  ,      \n",
    "    START_DATE DATE  ,                 \n",
    "    END_DATE DATE)          \n",
    "USING (dataobject 'HOSPITAL_READMISSION_LOAD.csv'\n",
    "          s3('s3.us-south.cloud-object-storage.appdomain.cloud',\n",
    "             '99b77f8a0c6f47f09658dd1cf0187deb',\n",
    "             '3522e1666e319b6b42aed090294a0abf47611e2b8b55dc91',\n",
    "             'external-table-cloud-bucket')\n",
    "          maxerrors 100000 \n",
    "          DELIMITER ','  \n",
    "          DATEDELIM '-'\n",
    "          Y2BASE 2000\n",
    "          DATESTYLE 'DMONY2'\n",
    "          -- MAXROWS 200    \n",
    "          STRING_DELIMITER DOUBLE \n",
    "          SKIPROWS 1 \n",
    "          FILLRECORD True\n",
    "      )\n",
    ";"
   ]
  },
  {
   "cell_type": "markdown",
   "metadata": {},
   "source": [
    "Count the rows in the external table.  This will only show valid records.  \n",
    "Running this or any query will cause the .log and .bad files to be written."
   ]
  },
  {
   "cell_type": "code",
   "execution_count": 10,
   "metadata": {},
   "outputs": [
    {
     "data": {
      "text/html": [
       "<div>\n",
       "<style scoped>\n",
       "    .dataframe tbody tr th:only-of-type {\n",
       "        vertical-align: middle;\n",
       "    }\n",
       "\n",
       "    .dataframe tbody tr th {\n",
       "        vertical-align: top;\n",
       "    }\n",
       "\n",
       "    .dataframe thead th {\n",
       "        text-align: right;\n",
       "    }\n",
       "</style>\n",
       "<table border=\"1\" class=\"dataframe\">\n",
       "  <thead>\n",
       "    <tr style=\"text-align: right;\">\n",
       "      <th></th>\n",
       "      <th>1</th>\n",
       "    </tr>\n",
       "  </thead>\n",
       "  <tbody>\n",
       "    <tr>\n",
       "      <th>0</th>\n",
       "      <td>11638</td>\n",
       "    </tr>\n",
       "  </tbody>\n",
       "</table>\n",
       "</div>"
      ],
      "text/plain": [
       "       1\n",
       "0  11638"
      ]
     },
     "execution_count": 10,
     "metadata": {},
     "output_type": "execute_result"
    }
   ],
   "source": [
    "%sql select count(*) from dean.HOSPITAL_READMISSION_EXT "
   ]
  },
  {
   "cell_type": "markdown",
   "metadata": {},
   "source": [
    "Create a column organized readmissions table "
   ]
  },
  {
   "cell_type": "code",
   "execution_count": 21,
   "metadata": {},
   "outputs": [
    {
     "name": "stdout",
     "output_type": "stream",
     "text": [
      "Command completed.\n"
     ]
    }
   ],
   "source": [
    "%%sql -a\n",
    "DROP TABLE DEAN.HOSPITAL_READMISSION;\n",
    "CREATE  TABLE dean.HOSPITAL_READMISSION\n",
    "   (HOSPITAL_NAME VARCHAR(200)  ,               \n",
    "    PROVIDER_NUMBER INTEGER  ,              \n",
    "    MEASURE_NAME VARCHAR(30)  ,                \n",
    "    PREDICTED_READMISSION_RATE DECIMAL(20,4),\n",
    "    START_DATE DATE)                 \n",
    " ORGANIZE BY COLUMN\n",
    ";\n"
   ]
  },
  {
   "cell_type": "markdown",
   "metadata": {},
   "source": [
    "Copy the valid rows from the external table to the column organized table using insert with select."
   ]
  },
  {
   "cell_type": "code",
   "execution_count": null,
   "metadata": {},
   "outputs": [],
   "source": [
    "%%sql -a\n",
    "insert into dean.hospital_readmission\n",
    "   (HOSPITAL_NAME  ,               \n",
    "    PROVIDER_NUMBER  ,\n",
    "    MEASURE_NAME   , \n",
    "    PREDICTED_READMISSION_RATE ,\n",
    "    START_DATE)     \n",
    "select     \n",
    "    HOSPITAL_NAME  ,               \n",
    "    PROVIDER_NUMBER ,             \n",
    "    MEASURE_NAME ,\n",
    "    PREDICTED_READMISSION_RATE ,\n",
    "    START_DATE\n",
    "    FROM dean.hospital_readmission_ext   \n",
    ";\n",
    " \n"
   ]
  },
  {
   "cell_type": "code",
   "execution_count": null,
   "metadata": {},
   "outputs": [],
   "source": [
    "%sql call sysproc.admin_cmd('describe table dean.hospital_readmission_ext')"
   ]
  },
  {
   "cell_type": "markdown",
   "metadata": {},
   "source": [
    "Copy the valid rows from the external table to the column organized table using the load utility."
   ]
  },
  {
   "cell_type": "code",
   "execution_count": 23,
   "metadata": {},
   "outputs": [
    {
     "data": {
      "application/vnd.jupyter.widget-view+json": {
       "model_id": "41a384c09d3747e4b62c7bc5249e6916",
       "version_major": 2,
       "version_minor": 0
      },
      "text/plain": [
       "QgridWidget(grid_options={'fullWidthRows': True, 'syncColumnCellResize': True, 'forceFitColumns': False, 'defa…"
      ]
     },
     "metadata": {},
     "output_type": "display_data"
    }
   ],
   "source": [
    "%%sql -a\n",
    "call sysproc.admin_cmd('load from (select HOSPITAL_NAME,               \n",
    "                                        PROVIDER_NUMBER ,             \n",
    "                                        MEASURE_NAME ,\n",
    "                                        CAST(PREDICTED_READMISSION_RATE AS DECIMAL(20,4)) ,\n",
    "                                        START_DATE\n",
    "                             from dean.hospital_readmission_ext order by start_date) \n",
    "                       of cursor messages on server \n",
    "                       replace resetdictionary \n",
    "                       into dean.hospital_readmission(HOSPITAL_NAME  ,               \n",
    "                                                    PROVIDER_NUMBER  ,\n",
    "                                                    MEASURE_NAME   , \n",
    "                                                    PREDICTED_READMISSION_RATE ,\n",
    "                                                    START_DATE)    \n",
    "                      ');"
   ]
  },
  {
   "cell_type": "code",
   "execution_count": null,
   "metadata": {},
   "outputs": [],
   "source": []
  },
  {
   "cell_type": "code",
   "execution_count": 19,
   "metadata": {},
   "outputs": [
    {
     "data": {
      "application/vnd.jupyter.widget-view+json": {
       "model_id": "9bf86d1f17654a5c8aefd210b139299b",
       "version_major": 2,
       "version_minor": 0
      },
      "text/plain": [
       "QgridWidget(grid_options={'fullWidthRows': True, 'syncColumnCellResize': True, 'forceFitColumns': False, 'defa…"
      ]
     },
     "metadata": {},
     "output_type": "display_data"
    }
   ],
   "source": [
    "%%sql -a\n",
    "SELECT SQLCODE, MSG FROM TABLE(SYSPROC.ADMIN_GET_MSGS('2073449332_1928906487_DB2INST1')) AS MSG "
   ]
  },
  {
   "cell_type": "code",
   "execution_count": 3,
   "metadata": {},
   "outputs": [
    {
     "data": {
      "text/html": [
       "<div>\n",
       "<style scoped>\n",
       "    .dataframe tbody tr th:only-of-type {\n",
       "        vertical-align: middle;\n",
       "    }\n",
       "\n",
       "    .dataframe tbody tr th {\n",
       "        vertical-align: top;\n",
       "    }\n",
       "\n",
       "    .dataframe thead th {\n",
       "        text-align: right;\n",
       "    }\n",
       "</style>\n",
       "<table border=\"1\" class=\"dataframe\">\n",
       "  <thead>\n",
       "    <tr style=\"text-align: right;\">\n",
       "      <th></th>\n",
       "      <th>1</th>\n",
       "    </tr>\n",
       "  </thead>\n",
       "  <tbody>\n",
       "    <tr>\n",
       "      <th>0</th>\n",
       "      <td>11638</td>\n",
       "    </tr>\n",
       "  </tbody>\n",
       "</table>\n",
       "</div>"
      ],
      "text/plain": [
       "       1\n",
       "0  11638"
      ]
     },
     "execution_count": 3,
     "metadata": {},
     "output_type": "execute_result"
    }
   ],
   "source": [
    "%sql select count(*) from dean.hospital_readmission "
   ]
  },
  {
   "cell_type": "markdown",
   "metadata": {},
   "source": [
    "## Switching gears to work with JSON data"
   ]
  },
  {
   "cell_type": "markdown",
   "metadata": {},
   "source": [
    "Create an external table to hold JSON documnets, putting one document in each row"
   ]
  },
  {
   "cell_type": "code",
   "execution_count": 43,
   "metadata": {},
   "outputs": [
    {
     "name": "stdout",
     "output_type": "stream",
     "text": [
      "Command completed.\n"
     ]
    }
   ],
   "source": [
    "%%sql -a \n",
    "DROP TABLE dean.energy_json_ext;\n",
    "CREATE EXTERNAL TABLE dean.energy_json_ext\n",
    "  (JSON_FIELD clob(2000))\n",
    "USING (dataobject 'catenergy.json'\n",
    "          s3('s3.us-south.cloud-object-storage.appdomain.cloud',\n",
    "             '99b77f8a0c6f47f09658dd1cf0187deb',\n",
    "             '3522e1666e319b6b42aed090294a0abf47611e2b8b55dc91',\n",
    "             'external-table-cloud-bucket')\n",
    "          maxerrors 100000 \n",
    "          DELIMITER '|'  \n",
    "      );"
   ]
  },
  {
   "cell_type": "markdown",
   "metadata": {},
   "source": [
    "Select some of the JSON data nicely formatted for easy viewing"
   ]
  },
  {
   "cell_type": "code",
   "execution_count": 57,
   "metadata": {},
   "outputs": [
    {
     "data": {
      "text/plain": [
       "[{'energy': {'timeUnit': 'HOUR',\n",
       "   'unit': 'Wh',\n",
       "   'measuredBy': 'INVERTER',\n",
       "   'values': [{'date': '2017-01-27 00:00:00', 'value': None},\n",
       "    {'date': '2017-01-27 01:00:00', 'value': None},\n",
       "    {'date': '2017-01-27 02:00:00', 'value': None},\n",
       "    {'date': '2017-01-27 03:00:00', 'value': None},\n",
       "    {'date': '2017-01-27 04:00:00', 'value': None},\n",
       "    {'date': '2017-01-27 05:00:00', 'value': 0.0},\n",
       "    {'date': '2017-01-27 06:00:00', 'value': None},\n",
       "    {'date': '2017-01-27 07:00:00', 'value': None},\n",
       "    {'date': '2017-01-27 08:00:00', 'value': 5.0},\n",
       "    {'date': '2017-01-27 09:00:00', 'value': 35.0},\n",
       "    {'date': '2017-01-27 10:00:00', 'value': 176.0},\n",
       "    {'date': '2017-01-27 11:00:00', 'value': 404.0},\n",
       "    {'date': '2017-01-27 12:00:00', 'value': 881.0},\n",
       "    {'date': '2017-01-27 13:00:00', 'value': 1293.0},\n",
       "    {'date': '2017-01-27 14:00:00', 'value': 2069.0},\n",
       "    {'date': '2017-01-27 15:00:00', 'value': 2155.0},\n",
       "    {'date': '2017-01-27 16:00:00', 'value': 650.0},\n",
       "    {'date': '2017-01-27 17:00:00', 'value': 38.0},\n",
       "    {'date': '2017-01-27 18:00:00', 'value': None},\n",
       "    {'date': '2017-01-27 19:00:00', 'value': 0.0},\n",
       "    {'date': '2017-01-27 20:00:00', 'value': None},\n",
       "    {'date': '2017-01-27 21:00:00', 'value': None},\n",
       "    {'date': '2017-01-27 22:00:00', 'value': None},\n",
       "    {'date': '2017-01-27 23:00:00', 'value': None}]}},\n",
       " {'energy': {'timeUnit': 'HOUR',\n",
       "   'unit': 'Wh',\n",
       "   'measuredBy': 'INVERTER',\n",
       "   'values': [{'date': '2017-01-29 00:00:00', 'value': None},\n",
       "    {'date': '2017-01-29 01:00:00', 'value': None},\n",
       "    {'date': '2017-01-29 02:00:00', 'value': None},\n",
       "    {'date': '2017-01-29 03:00:00', 'value': None},\n",
       "    {'date': '2017-01-29 04:00:00', 'value': None},\n",
       "    {'date': '2017-01-29 05:00:00', 'value': 0.0},\n",
       "    {'date': '2017-01-29 06:00:00', 'value': None},\n",
       "    {'date': '2017-01-29 07:00:00', 'value': 0.0},\n",
       "    {'date': '2017-01-29 08:00:00', 'value': 131.0},\n",
       "    {'date': '2017-01-29 09:00:00', 'value': 468.0},\n",
       "    {'date': '2017-01-29 10:00:00', 'value': 977.0},\n",
       "    {'date': '2017-01-29 11:00:00', 'value': 1533.0},\n",
       "    {'date': '2017-01-29 12:00:00', 'value': 2264.0},\n",
       "    {'date': '2017-01-29 13:00:00', 'value': 2756.0},\n",
       "    {'date': '2017-01-29 14:00:00', 'value': 2701.0},\n",
       "    {'date': '2017-01-29 15:00:00', 'value': 1922.0},\n",
       "    {'date': '2017-01-29 16:00:00', 'value': 648.0},\n",
       "    {'date': '2017-01-29 17:00:00', 'value': 89.0},\n",
       "    {'date': '2017-01-29 18:00:00', 'value': None},\n",
       "    {'date': '2017-01-29 19:00:00', 'value': None},\n",
       "    {'date': '2017-01-29 20:00:00', 'value': None},\n",
       "    {'date': '2017-01-29 21:00:00', 'value': None},\n",
       "    {'date': '2017-01-29 22:00:00', 'value': None},\n",
       "    {'date': '2017-01-29 23:00:00', 'value': None}]}},\n",
       " {'energy': {'timeUnit': 'HOUR',\n",
       "   'unit': 'Wh',\n",
       "   'measuredBy': 'INVERTER',\n",
       "   'values': [{'date': '2017-01-30 00:00:00', 'value': None},\n",
       "    {'date': '2017-01-30 01:00:00', 'value': None},\n",
       "    {'date': '2017-01-30 02:00:00', 'value': None},\n",
       "    {'date': '2017-01-30 03:00:00', 'value': None},\n",
       "    {'date': '2017-01-30 04:00:00', 'value': None},\n",
       "    {'date': '2017-01-30 05:00:00', 'value': 0.0},\n",
       "    {'date': '2017-01-30 06:00:00', 'value': None},\n",
       "    {'date': '2017-01-30 07:00:00', 'value': 0.0},\n",
       "    {'date': '2017-01-30 08:00:00', 'value': 216.0},\n",
       "    {'date': '2017-01-30 09:00:00', 'value': 580.0},\n",
       "    {'date': '2017-01-30 10:00:00', 'value': 824.0},\n",
       "    {'date': '2017-01-30 11:00:00', 'value': 1803.0},\n",
       "    {'date': '2017-01-30 12:00:00', 'value': 2445.0},\n",
       "    {'date': '2017-01-30 13:00:00', 'value': 2831.0},\n",
       "    {'date': '2017-01-30 14:00:00', 'value': 2792.0},\n",
       "    {'date': '2017-01-30 15:00:00', 'value': 2407.0},\n",
       "    {'date': '2017-01-30 16:00:00', 'value': 807.0},\n",
       "    {'date': '2017-01-30 17:00:00', 'value': 109.0},\n",
       "    {'date': '2017-01-30 18:00:00', 'value': None},\n",
       "    {'date': '2017-01-30 19:00:00', 'value': 0.0},\n",
       "    {'date': '2017-01-30 20:00:00', 'value': None},\n",
       "    {'date': '2017-01-30 21:00:00', 'value': None},\n",
       "    {'date': '2017-01-30 22:00:00', 'value': None},\n",
       "    {'date': '2017-01-30 23:00:00', 'value': None}]}},\n",
       " {'energy': {'timeUnit': 'HOUR',\n",
       "   'unit': 'Wh',\n",
       "   'measuredBy': 'INVERTER',\n",
       "   'values': [{'date': '2017-01-31 00:00:00', 'value': None},\n",
       "    {'date': '2017-01-31 01:00:00', 'value': None},\n",
       "    {'date': '2017-01-31 02:00:00', 'value': None},\n",
       "    {'date': '2017-01-31 03:00:00', 'value': None},\n",
       "    {'date': '2017-01-31 04:00:00', 'value': None},\n",
       "    {'date': '2017-01-31 05:00:00', 'value': 0.0},\n",
       "    {'date': '2017-01-31 06:00:00', 'value': None},\n",
       "    {'date': '2017-01-31 07:00:00', 'value': 0.0},\n",
       "    {'date': '2017-01-31 08:00:00', 'value': 219.0},\n",
       "    {'date': '2017-01-31 09:00:00', 'value': 681.0},\n",
       "    {'date': '2017-01-31 10:00:00', 'value': 1160.0},\n",
       "    {'date': '2017-01-31 11:00:00', 'value': 1824.0},\n",
       "    {'date': '2017-01-31 12:00:00', 'value': 2535.0},\n",
       "    {'date': '2017-01-31 13:00:00', 'value': 2707.0},\n",
       "    {'date': '2017-01-31 14:00:00', 'value': 1386.0},\n",
       "    {'date': '2017-01-31 15:00:00', 'value': 591.0},\n",
       "    {'date': '2017-01-31 16:00:00', 'value': 241.0},\n",
       "    {'date': '2017-01-31 17:00:00', 'value': 29.0},\n",
       "    {'date': '2017-01-31 18:00:00', 'value': None},\n",
       "    {'date': '2017-01-31 19:00:00', 'value': 0.0},\n",
       "    {'date': '2017-01-31 20:00:00', 'value': None},\n",
       "    {'date': '2017-01-31 21:00:00', 'value': None},\n",
       "    {'date': '2017-01-31 22:00:00', 'value': None},\n",
       "    {'date': '2017-01-31 23:00:00', 'value': None}]}},\n",
       " {'energy': {'timeUnit': 'HOUR',\n",
       "   'unit': 'Wh',\n",
       "   'measuredBy': 'INVERTER',\n",
       "   'values': [{'date': '2017-02-01 00:00:00', 'value': None},\n",
       "    {'date': '2017-02-01 01:00:00', 'value': None},\n",
       "    {'date': '2017-02-01 02:00:00', 'value': None},\n",
       "    {'date': '2017-02-01 03:00:00', 'value': None},\n",
       "    {'date': '2017-02-01 04:00:00', 'value': None},\n",
       "    {'date': '2017-02-01 05:00:00', 'value': 0.0},\n",
       "    {'date': '2017-02-01 06:00:00', 'value': None},\n",
       "    {'date': '2017-02-01 07:00:00', 'value': 3.0},\n",
       "    {'date': '2017-02-01 08:00:00', 'value': 294.0},\n",
       "    {'date': '2017-02-01 09:00:00', 'value': 692.0},\n",
       "    {'date': '2017-02-01 10:00:00', 'value': 987.0},\n",
       "    {'date': '2017-02-01 11:00:00', 'value': 1328.0},\n",
       "    {'date': '2017-02-01 12:00:00', 'value': 1456.0},\n",
       "    {'date': '2017-02-01 13:00:00', 'value': 1830.0},\n",
       "    {'date': '2017-02-01 14:00:00', 'value': 1319.0},\n",
       "    {'date': '2017-02-01 15:00:00', 'value': 797.0},\n",
       "    {'date': '2017-02-01 16:00:00', 'value': 474.0},\n",
       "    {'date': '2017-02-01 17:00:00', 'value': 111.0},\n",
       "    {'date': '2017-02-01 18:00:00', 'value': None},\n",
       "    {'date': '2017-02-01 19:00:00', 'value': 0.0},\n",
       "    {'date': '2017-02-01 20:00:00', 'value': None},\n",
       "    {'date': '2017-02-01 21:00:00', 'value': None},\n",
       "    {'date': '2017-02-01 22:00:00', 'value': None},\n",
       "    {'date': '2017-02-01 23:00:00', 'value': None}]}}]"
      ]
     },
     "execution_count": 57,
     "metadata": {},
     "output_type": "execute_result"
    }
   ],
   "source": [
    "%%sql -j\n",
    "select json_field from dean.energy_json_ext fetch first 5 rows only"
   ]
  },
  {
   "cell_type": "markdown",
   "metadata": {},
   "source": [
    "### Create a function to validate JSON records\n",
    "Queries on the table will fail if even one bad document if you don't use this"
   ]
  },
  {
   "cell_type": "code",
   "execution_count": 50,
   "metadata": {},
   "outputs": [
    {
     "name": "stdout",
     "output_type": "stream",
     "text": [
      "Command completed.\n"
     ]
    }
   ],
   "source": [
    "%%sql -d\n",
    "CREATE OR REPLACE FUNCTION DB2INST1.CHECK_JSON(JSON CLOB)\n",
    "      RETURNS INTEGER\n",
    "      CONTAINS SQL LANGUAGE SQL DETERMINISTIC NO EXTERNAL ACTION\n",
    "  BEGIN\n",
    "    DECLARE RC BOOLEAN;\n",
    "    DECLARE EXIT HANDLER FOR SQLEXCEPTION RETURN(FALSE);\n",
    "    SET RC = JSON_EXISTS(JSON,'$' ERROR ON ERROR);\n",
    "    RETURN(TRUE);\n",
    "END"
   ]
  },
  {
   "cell_type": "markdown",
   "metadata": {},
   "source": [
    "Create a table with some columns to hold JSON fields"
   ]
  },
  {
   "cell_type": "code",
   "execution_count": 55,
   "metadata": {},
   "outputs": [
    {
     "name": "stdout",
     "output_type": "stream",
     "text": [
      "Command completed.\n"
     ]
    }
   ],
   "source": [
    "%%sql -a \n",
    "DROP TABLE dean.energy_json;\n",
    "CREATE TABLE dean.energy_json\n",
    "    (SEQ INT NOT NULL GENERATED ALWAYS AS IDENTITY,\n",
    "     READING_TS TIMESTAMP NOT NULL WITH DEFAULT,\n",
    "     ENERGY_UNIT VARCHAR(20),\n",
    "     NOON_THROUGH_2_TOTAL DECIMAL(10,1),\n",
    "     JSON_FIELD blob(2000));\n"
   ]
  },
  {
   "cell_type": "markdown",
   "metadata": {},
   "source": [
    "Copy data into the table extracting some JSON fields, and getting the fill JSON document converted to BSON"
   ]
  },
  {
   "cell_type": "code",
   "execution_count": 53,
   "metadata": {},
   "outputs": [
    {
     "data": {
      "text/html": [
       "<p><p style=\"border:2px; border-style:solid; border-color:#FF0000; background-color:#ffe6e6; padding: 1em;\">SQL0198N  The statement string of the PREPARE or EXECUTE IMMEDIATE statement is blank or empty.  SQLSTATE=42617 SQLCODE=-198</p>"
      ],
      "text/plain": [
       "<IPython.core.display.HTML object>"
      ]
     },
     "metadata": {},
     "output_type": "display_data"
    },
    {
     "name": "stdout",
     "output_type": "stream",
     "text": [
      "Command completed.\n"
     ]
    }
   ],
   "source": [
    " %%sql\n",
    "insert into dean.energy_json\n",
    "   (READING_TS,\n",
    "    ENERGY_UNIT,\n",
    "    NOON_THROUGH_2_TOTAL,\n",
    "    JSON_FIELD)     \n",
    "select JSON_VALUE(json_field, '$.energy.values[0].date' RETURNING TIMESTAMP),\n",
    "       CASE WHEN JSON_VALUE(json_field, '$.energy.unit' RETURNING VARCHAR(20)) = 'Wh' THEN 'WATT HOURS' END,\n",
    "       JSON_VALUE(json_field, '$.energy.values[12].value' RETURNING Decimal(10,1)) \n",
    "            + JSON_VALUE(json_field, '$.energy.values[13].value' RETURNING Decimal(10,1))\n",
    "            + JSON_VALUE(json_field, '$.energy.values[14].value' RETURNING Decimal(10,1)),\n",
    "       JSON_TO_BSON(JSON_FIELD) \n",
    "    FROM dean.energy_json_ext   \n",
    "   WHERE DB2INST1.CHECK_JSON(JSON_FIELD)\n",
    ";\n",
    "    \n",
    " \n",
    "    "
   ]
  },
  {
   "cell_type": "code",
   "execution_count": 54,
   "metadata": {},
   "outputs": [
    {
     "data": {
      "text/html": [
       "<div>\n",
       "<style scoped>\n",
       "    .dataframe tbody tr th:only-of-type {\n",
       "        vertical-align: middle;\n",
       "    }\n",
       "\n",
       "    .dataframe tbody tr th {\n",
       "        vertical-align: top;\n",
       "    }\n",
       "\n",
       "    .dataframe thead th {\n",
       "        text-align: right;\n",
       "    }\n",
       "</style>\n",
       "<table border=\"1\" class=\"dataframe\">\n",
       "  <thead>\n",
       "    <tr style=\"text-align: right;\">\n",
       "      <th></th>\n",
       "      <th>READING_TS</th>\n",
       "      <th>2</th>\n",
       "    </tr>\n",
       "  </thead>\n",
       "  <tbody>\n",
       "    <tr>\n",
       "      <th>0</th>\n",
       "      <td>2017-01-27</td>\n",
       "      <td>Wh</td>\n",
       "    </tr>\n",
       "    <tr>\n",
       "      <th>1</th>\n",
       "      <td>2017-01-29</td>\n",
       "      <td>Wh</td>\n",
       "    </tr>\n",
       "    <tr>\n",
       "      <th>2</th>\n",
       "      <td>2017-01-30</td>\n",
       "      <td>Wh</td>\n",
       "    </tr>\n",
       "    <tr>\n",
       "      <th>3</th>\n",
       "      <td>2017-01-31</td>\n",
       "      <td>Wh</td>\n",
       "    </tr>\n",
       "    <tr>\n",
       "      <th>4</th>\n",
       "      <td>2017-02-01</td>\n",
       "      <td>Wh</td>\n",
       "    </tr>\n",
       "    <tr>\n",
       "      <th>...</th>\n",
       "      <td>...</td>\n",
       "      <td>...</td>\n",
       "    </tr>\n",
       "    <tr>\n",
       "      <th>561</th>\n",
       "      <td>2019-12-14</td>\n",
       "      <td>Wh</td>\n",
       "    </tr>\n",
       "    <tr>\n",
       "      <th>562</th>\n",
       "      <td>2019-12-15</td>\n",
       "      <td>Wh</td>\n",
       "    </tr>\n",
       "    <tr>\n",
       "      <th>563</th>\n",
       "      <td>2019-12-16</td>\n",
       "      <td>Wh</td>\n",
       "    </tr>\n",
       "    <tr>\n",
       "      <th>564</th>\n",
       "      <td>2019-12-17</td>\n",
       "      <td>Wh</td>\n",
       "    </tr>\n",
       "    <tr>\n",
       "      <th>565</th>\n",
       "      <td>2019-12-18</td>\n",
       "      <td>Wh</td>\n",
       "    </tr>\n",
       "  </tbody>\n",
       "</table>\n",
       "<p>566 rows × 2 columns</p>\n",
       "</div>"
      ],
      "text/plain": [
       "    READING_TS   2\n",
       "0   2017-01-27  Wh\n",
       "1   2017-01-29  Wh\n",
       "2   2017-01-30  Wh\n",
       "3   2017-01-31  Wh\n",
       "4   2017-02-01  Wh\n",
       "..         ...  ..\n",
       "561 2019-12-14  Wh\n",
       "562 2019-12-15  Wh\n",
       "563 2019-12-16  Wh\n",
       "564 2019-12-17  Wh\n",
       "565 2019-12-18  Wh\n",
       "\n",
       "[566 rows x 2 columns]"
      ]
     },
     "execution_count": 54,
     "metadata": {},
     "output_type": "execute_result"
    }
   ],
   "source": [
    "%sql select reading_ts, JSON_VALUE(json_field, '$.energy.unit' RETURNING VARCHAR(20))  from dean.energy_json"
   ]
  },
  {
   "cell_type": "markdown",
   "metadata": {},
   "source": [
    "## Options\n",
    "Both forms of the **`%sql`** command have options that can be used to change the behavior of the code. For both forms of the command (**`%sql`**, **`%%sql`**), the options must be on the same line as the command:\n",
    "<pre>\n",
    "%sql -t ...\n",
    "%%sql -t\n",
    "</pre>\n",
    "\n",
    "The only difference is that the **`%sql`** command can have SQL following the parameters, while the **`%%sql`** requires the SQL to be placed on subsequent lines.\n",
    "\n",
    "There are a number of parameters that you can specify as part of the %sql statement. \n",
    "\n",
    "* **`-d`** - Use alternative delimiter\n",
    "* **`-t`** - Time the statement execution\n",
    "* **`-n`** - Run all statements as commands (no answer sets)\n",
    "* **`-s`** - Run all statements as SQL\n",
    "* **`-q`** - Suppress messages \n",
    "* **`-j`** - JSON formatting of a column\n",
    "* **`-a`** - Show all output\n",
    "* **`-pb`** - Bar chart of results\n",
    "* **`-pp`** - Pie chart of results \n",
    "* **`-pl`** - Line chart of results\n",
    "* **`-i`** - Interactive results and plotting\n",
    "* **`-sampledata`** Load the database with the sample EMPLOYEE and DEPARTMENT tables\n",
    "* **`-r`** - Return the results into a variable (list of rows)\n",
    "\n",
    "Multiple parameters are allowed on a command line. Each option should be separated by a space:\n",
    "<pre>\n",
    "%sql -a -j ...\n",
    "</pre>\n",
    "\n",
    "A SELECT statement will return the results as a dataframe and display the results as a table in the notebook. If you use the assignment statement, the dataframe will be placed into the variable and the results will not be displayed:\n",
    "<pre>\n",
    "r = %sql SELECT * FROM EMPLOYEE\n",
    "</pre>\n",
    "\n",
    "The sections below will explain the options in more detail."
   ]
  },
  {
   "cell_type": "code",
   "execution_count": null,
   "metadata": {},
   "outputs": [],
   "source": []
  }
 ],
 "metadata": {
  "kernelspec": {
   "display_name": "Python 3",
   "language": "python",
   "name": "python3"
  },
  "language_info": {
   "codemirror_mode": {
    "name": "ipython",
    "version": 3
   },
   "file_extension": ".py",
   "mimetype": "text/x-python",
   "name": "python",
   "nbconvert_exporter": "python",
   "pygments_lexer": "ipython3",
   "version": "3.7.3"
  }
 },
 "nbformat": 4,
 "nbformat_minor": 2
}
