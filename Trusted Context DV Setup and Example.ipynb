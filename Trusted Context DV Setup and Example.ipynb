{
 "cells": [
  {
   "cell_type": "markdown",
   "metadata": {},
   "source": [
    "<h1> DV Trusted Context Example</h1>"
   ]
  },
  {
   "cell_type": "markdown",
   "metadata": {},
   "source": [
    "<p><strong>Welcome!</strong> This notebook shows an example of how to configure and use Trusted Context in the Data Virtualization database.  After some initial set up cells, the first part of of the notebook is the configuraiton section that would need to be run once (Configure Trusted Context), and the second part shows how to use it and switch users from the one that made the connection (Example of Using Trusted Context). </p>"
   ]
  },
  {
   "cell_type": "markdown",
   "metadata": {},
   "source": [
    "Please note that I use both Db2 Magic Commands as well as lower level Python commands to query Db2.  The I use the lower level commands in places where I need to change connection properties for trusted context."
   ]
  },
  {
   "cell_type": "markdown",
   "metadata": {},
   "source": [
    "<p><strong>TAKE NOTE</strong> This notebook or any code in it should not used for any production purposes.  It is meant only to provide examples of how you might want to use trusted context.   </p>"
   ]
  },
  {
   "cell_type": "markdown",
   "metadata": {},
   "source": [
    "## Set up Db2 environment and connection credentials"
   ]
  },
  {
   "cell_type": "markdown",
   "metadata": {},
   "source": [
    "Get the Db2 notebook to configure the environment, run it and then configure the Database credentials "
   ]
  },
  {
   "cell_type": "code",
   "execution_count": null,
   "metadata": {},
   "outputs": [],
   "source": [
    "import wget\n",
    "url = 'https://raw.githubusercontent.com/IBM/db2-jupyter/master/db2.ipynb'\n",
    "filename = wget.download(url)\n",
    "filename"
   ]
  },
  {
   "cell_type": "code",
   "execution_count": 1,
   "metadata": {},
   "outputs": [
    {
     "name": "stdout",
     "output_type": "stream",
     "text": [
      "db2 (2).ipynb\n",
      "Db2 Extensions Loaded.\n"
     ]
    }
   ],
   "source": [
    "#filename = 'db2 (2).ipynb'\n",
    "#print(filename)\n",
    "%run \"$filename\""
   ]
  },
  {
   "cell_type": "markdown",
   "metadata": {},
   "source": [
    "My user, 1030, has been granted administrator privilidges because these are needed to create the trusted context object, create roles and grant privilidges to those roles."
   ]
  },
  {
   "cell_type": "code",
   "execution_count": 2,
   "metadata": {},
   "outputs": [],
   "source": [
    "user1030_id = 'user1030'\n",
    "user1030_pw = 'k?0mVT@I6m0Bm0?@'"
   ]
  },
  {
   "cell_type": "markdown",
   "metadata": {},
   "source": [
    "In this case I am using the 1008 DV user id of Emily the Business Analyst as the service account or generic user_id that stands in for a generic user id that an application server would use to connect to DV.  It turns out that you can't create a trusted context for your own user id.  "
   ]
  },
  {
   "cell_type": "code",
   "execution_count": 3,
   "metadata": {},
   "outputs": [],
   "source": [
    "user1008_id = 'user1008'\n",
    "user1008_pw = 'zTJ3I0e8@#z%X2*l'"
   ]
  },
  {
   "cell_type": "markdown",
   "metadata": {},
   "source": [
    "# Configure Trusted Context"
   ]
  },
  {
   "cell_type": "markdown",
   "metadata": {},
   "source": [
    "   "
   ]
  },
  {
   "cell_type": "markdown",
   "metadata": {},
   "source": [
    "Connect to the data base with the DV admin ID using the Db2 Magic commands privided by executing the above db2 notebook.  "
   ]
  },
  {
   "cell_type": "code",
   "execution_count": null,
   "metadata": {},
   "outputs": [],
   "source": [
    "%sql CONNECT TO bigsql USER {user1030_id} USING {user1030_pw} HOST cp4d-cpd-cp4d.apps.cpd.170-224-51-134.nip.io PORT 31319"
   ]
  },
  {
   "cell_type": "markdown",
   "metadata": {},
   "source": [
    "Connect as Emily the Business analyst\n",
    "We will use this user id as the service account that an application server uses."
   ]
  },
  {
   "cell_type": "code",
   "execution_count": null,
   "metadata": {},
   "outputs": [],
   "source": [
    "%sql CONNECT TO bigsql USER {user1008_id} USING {user1008_pw} HOST cp4d-cpd-cp4d.apps.cpd.170-224-51-134.nip.io PORT 31319"
   ]
  },
  {
   "cell_type": "markdown",
   "metadata": {},
   "source": [
    "Query the connections and notice that the python connections are using the session_auth_id of user1030."
   ]
  },
  {
   "cell_type": "code",
   "execution_count": null,
   "metadata": {},
   "outputs": [],
   "source": [
    "%%sql\n",
    "SELECT application_handle, \n",
    "       application_name,\n",
    "       EXECUTION_ID,\n",
    "       SESSION_AUTH_ID,\n",
    "       SYSTEM_AUTH_ID,       \n",
    "       application_id, \n",
    "       CLIENT_IPADDR,\n",
    "       CLIENT_WRKSTNNAME  \n",
    "FROM TABLE(MON_GET_CONNECTION(cast(NULL as bigint), -2)) AS t \n",
    "ORDER BY rows_returned DESC;"
   ]
  },
  {
   "cell_type": "markdown",
   "metadata": {},
   "source": [
    "### Create the role called \"app_server_role\" to provide privilidges to users"
   ]
  },
  {
   "cell_type": "markdown",
   "metadata": {},
   "source": [
    "Any user using the database through the trusted context will be granted this role.  In our examples we will query the stock virtual table.  Note that the role needs connect authority, because we will switch to user id's that don't actually exist in DV.  In this way of using trusted context, the only reason for switching is to beable to see who the end user is and not to have the users actually defined to DV.  This means that those users would never be able to acctually connect to DV unless they know the service id, its password and log in from one of the IP's defined in the trusted context.  Finally, I grant execute on the MON_GET_CONNECTION procedure to make it convenient for me to show the user in DV.  "
   ]
  },
  {
   "cell_type": "code",
   "execution_count": null,
   "metadata": {},
   "outputs": [],
   "source": [
    "%sql drop role app_server_role;"
   ]
  },
  {
   "cell_type": "code",
   "execution_count": null,
   "metadata": {},
   "outputs": [],
   "source": [
    "%sql create role app_server_role;"
   ]
  },
  {
   "cell_type": "code",
   "execution_count": null,
   "metadata": {},
   "outputs": [],
   "source": [
    "%sql grant connect on database to role app_server_role;\n",
    "%sql grant select on user1030.stock to role app_server_role;\n",
    "%sql grant execute on function sysproc.MON_GET_CONNECTION to role app_server_role;"
   ]
  },
  {
   "cell_type": "markdown",
   "metadata": {},
   "source": [
    "### Creaet the Trusted Context"
   ]
  },
  {
   "cell_type": "markdown",
   "metadata": {},
   "source": [
    "Since a user/service account connecting to DV usign trusted context is allowed to switch to another user, this feature is limited to a list IP addresses or host names.  Generally you will only use the IPs of the few application servers that connect with a service account.  For DV, you have to use the IP of the APPLICATION_NAME dvapi-server.  This appears to be a pod running in the CPD cluster.  You should evaluate whether building a trusted context on this IP is desirable as all connections coming to DV seem to be coming from the dvai-server pod IP address.  This would need further investigateion before using this in any permanent way.  In the output below from the MON_GET_CONNECTION you can see that the IP address of the dvapi-server is 10.130.2.12 and that is what I used to create the trusted context.  As you can see I tried several other IPs before figuring this out.  "
   ]
  },
  {
   "attachments": {
    "image.png": {
     "image/png": "[encoded data removed]"
    }
   },
   "cell_type": "markdown",
   "metadata": {},
   "source": [
    "![image.png](attachment:image.png)"
   ]
  },
  {
   "cell_type": "code",
   "execution_count": null,
   "metadata": {},
   "outputs": [],
   "source": [
    "%sql drop trusted context ctx1;"
   ]
  },
  {
   "cell_type": "code",
   "execution_count": null,
   "metadata": {},
   "outputs": [],
   "source": [
    "%%sql\n",
    "create trusted context ctx1\n",
    "       based upon connection using system authid user1008\n",
    "       attributes (address '172.18.43.241',\n",
    "                   address '192.168.0.5',\n",
    "                   address '172.17.0.1',\n",
    "                   address '10.129.0.1',\n",
    "                   address '10.128.0.1',\n",
    "                   address '10.130.2.12')\n",
    "       default role app_server_role\n",
    "       with use for PUBLIC without authentication\n",
    "       enable"
   ]
  },
  {
   "cell_type": "markdown",
   "metadata": {},
   "source": [
    "Example query to determine the IP address of the dvapi-server pod."
   ]
  },
  {
   "cell_type": "code",
   "execution_count": null,
   "metadata": {},
   "outputs": [],
   "source": [
    "%sql SELECT application_handle, application_name,EXECUTION_ID, SESSION_AUTH_ID, \\\n",
    "       SYSTEM_AUTH_ID, application_id, CLIENT_IPADDR, CLIENT_WRKSTNNAME \\\n",
    "         FROM TABLE(sysproc.MON_GET_CONNECTION(cast(NULL as bigint), -2)) AS t  \\\n",
    "        ORDER BY rows_returned DESC;"
   ]
  },
  {
   "cell_type": "code",
   "execution_count": null,
   "metadata": {},
   "outputs": [],
   "source": [
    "%sql connect reset"
   ]
  },
  {
   "cell_type": "markdown",
   "metadata": {},
   "source": [
    "# Example of using Trusted Context"
   ]
  },
  {
   "cell_type": "markdown",
   "metadata": {},
   "source": [
    "Use Db2 functions to configure trusted context parameters that will be used later as well as the string to query the stock table"
   ]
  },
  {
   "cell_type": "code",
   "execution_count": 4,
   "metadata": {},
   "outputs": [
    {
     "name": "stdout",
     "output_type": "stream",
     "text": [
      "{2561: 1}\n",
      "{2561: 1, 2562: 'brad'}\n",
      "{2561: 1, 2562: 'bob'}\n",
      "select count(*) from user1030.stock\n"
     ]
    }
   ],
   "source": [
    "options = {ibm_db.SQL_ATTR_USE_TRUSTED_CONTEXT: ibm_db.SQL_TRUE}\n",
    "tc_brad = {ibm_db.SQL_ATTR_USE_TRUSTED_CONTEXT: ibm_db.SQL_TRUE, ibm_db.SQL_ATTR_TRUSTED_CONTEXT_USERID: \"brad\" }\n",
    "tc_bob = {ibm_db.SQL_ATTR_USE_TRUSTED_CONTEXT: ibm_db.SQL_TRUE, ibm_db.SQL_ATTR_TRUSTED_CONTEXT_USERID: \"bob\" }\n",
    "query=\"select count(*) from user1030.stock\"\n",
    "print(options)\n",
    "print(tc_brad)\n",
    "print(tc_bob)\n",
    "print(query)"
   ]
  },
  {
   "cell_type": "markdown",
   "metadata": {},
   "source": [
    "Connect to the DV database using the user1008 service account."
   ]
  },
  {
   "cell_type": "code",
   "execution_count": 5,
   "metadata": {},
   "outputs": [
    {
     "name": "stdout",
     "output_type": "stream",
     "text": [
      "DATABASE=BIGSQL;HOSTNAME=cp4d-cpd-cp4d.apps.cpd.170-224-51-134.nip.io;PORT=31319;PROTOCOL=TCPIP;UID=user1008;PWD=zTJ3I0e8@#z%X2*l\n"
     ]
    }
   ],
   "source": [
    "connect_string = \"DATABASE=BIGSQL;HOSTNAME=cp4d-cpd-cp4d.apps.cpd.170-224-51-134.nip.io;\" + \\\n",
    "                 \"PORT=31319;\" + \"PROTOCOL=TCPIP;UID=\" + user1008_id + \";PWD=\" + user1008_pw;\n",
    "print(connect_string)\n",
    "conn = ibm_db.connect(connect_string, \"\", \"\",options)"
   ]
  },
  {
   "cell_type": "markdown",
   "metadata": {},
   "source": [
    "This is another quirky thing about using Trusted Context in DV.  You need to connect at least twice, so execute the next cell again after pausing 15 or 20 seconds."
   ]
  },
  {
   "cell_type": "code",
   "execution_count": 6,
   "metadata": {},
   "outputs": [
    {
     "name": "stdout",
     "output_type": "stream",
     "text": [
      "DATABASE=BIGSQL;HOSTNAME=cp4d-cpd-cp4d.apps.cpd.170-224-51-134.nip.io;PORT=31319;PROTOCOL=TCPIP;UID=user1008;PWD=zTJ3I0e8@#z%X2*l\n"
     ]
    }
   ],
   "source": [
    "connect_string = \"DATABASE=BIGSQL;HOSTNAME=cp4d-cpd-cp4d.apps.cpd.170-224-51-134.nip.io;\" + \\\n",
    "                 \"PORT=31319;\" + \"PROTOCOL=TCPIP;UID=\" + user1008_id + \";PWD=\" + user1008_pw;\n",
    "print(connect_string)\n",
    "conn = ibm_db.connect(connect_string, \"\", \"\",options)"
   ]
  },
  {
   "cell_type": "markdown",
   "metadata": {},
   "source": [
    "Run a query as user1008. If the query fails, run the connection in one of the cells above again.  Usually the second connection does the trick, but sometimes more are needed."
   ]
  },
  {
   "cell_type": "code",
   "execution_count": 7,
   "metadata": {},
   "outputs": [
    {
     "name": "stdout",
     "output_type": "stream",
     "text": [
      "Number of stock rows selected by service account = 500000\n"
     ]
    }
   ],
   "source": [
    "stmt=ibm_db.exec_immediate(conn, query)\n",
    "result = ibm_db.fetch_both(stmt)\n",
    "print (\"Number of stock rows selected by service account = \"+ str(result[0]))"
   ]
  },
  {
   "cell_type": "markdown",
   "metadata": {},
   "source": [
    "Now look at the connections and notice that one of the python connections is made through the user1008 service account.  The other two python connections are the magic command connections used for this query."
   ]
  },
  {
   "cell_type": "code",
   "execution_count": 8,
   "metadata": {},
   "outputs": [
    {
     "name": "stdout",
     "output_type": "stream",
     "text": [
      "Connection successful.\n"
     ]
    },
    {
     "data": {
      "text/html": [
       "<div>\n",
       "<style scoped>\n",
       "    .dataframe tbody tr th:only-of-type {\n",
       "        vertical-align: middle;\n",
       "    }\n",
       "\n",
       "    .dataframe tbody tr th {\n",
       "        vertical-align: top;\n",
       "    }\n",
       "\n",
       "    .dataframe thead th {\n",
       "        text-align: right;\n",
       "    }\n",
       "</style>\n",
       "<table border=\"1\" class=\"dataframe\">\n",
       "  <thead>\n",
       "    <tr style=\"text-align: right;\">\n",
       "      <th></th>\n",
       "      <th>APPLICATION_HANDLE</th>\n",
       "      <th>APPLICATION_NAME</th>\n",
       "      <th>EXECUTION_ID</th>\n",
       "      <th>SESSION_AUTH_ID</th>\n",
       "      <th>SYSTEM_AUTH_ID</th>\n",
       "      <th>APPLICATION_ID</th>\n",
       "      <th>CLIENT_IPADDR</th>\n",
       "      <th>CLIENT_WRKSTNNAME</th>\n",
       "    </tr>\n",
       "  </thead>\n",
       "  <tbody>\n",
       "    <tr>\n",
       "      <th>0</th>\n",
       "      <td>106</td>\n",
       "      <td>UC_REPO_run</td>\n",
       "      <td>BLUADMIN</td>\n",
       "      <td>BLUADMIN</td>\n",
       "      <td>BLUADMIN</td>\n",
       "      <td>10.130.2.26.51906.200803215244</td>\n",
       "      <td>10.130.2.26</td>\n",
       "      <td>10.130.2.26</td>\n",
       "    </tr>\n",
       "    <tr>\n",
       "      <th>1</th>\n",
       "      <td>8816</td>\n",
       "      <td>UC_REPO_dba</td>\n",
       "      <td>BLUADMIN</td>\n",
       "      <td>BLUADMIN</td>\n",
       "      <td>BLUADMIN</td>\n",
       "      <td>10.130.2.26.56650.200804183406</td>\n",
       "      <td>10.130.2.26</td>\n",
       "      <td>10.130.2.26</td>\n",
       "    </tr>\n",
       "    <tr>\n",
       "      <th>2</th>\n",
       "      <td>9690</td>\n",
       "      <td>dvapi-server</td>\n",
       "      <td>1000320900</td>\n",
       "      <td>USER1030</td>\n",
       "      <td>USER1030</td>\n",
       "      <td>10.130.2.12.54812.200804202656</td>\n",
       "      <td>10.130.2.12</td>\n",
       "      <td>dv-api-576b867b9f-2rgzq</td>\n",
       "    </tr>\n",
       "    <tr>\n",
       "      <th>3</th>\n",
       "      <td>20474</td>\n",
       "      <td>python</td>\n",
       "      <td>db2Dean</td>\n",
       "      <td>USER1008</td>\n",
       "      <td>USER1008</td>\n",
       "      <td>192.168.0.5.56245.200805210720</td>\n",
       "      <td>10.128.0.1</td>\n",
       "      <td>Deans-MacBook-Pro-3.local</td>\n",
       "    </tr>\n",
       "    <tr>\n",
       "      <th>4</th>\n",
       "      <td>105</td>\n",
       "      <td>UC_REPO_run</td>\n",
       "      <td>BLUADMIN</td>\n",
       "      <td>BLUADMIN</td>\n",
       "      <td>BLUADMIN</td>\n",
       "      <td>10.130.2.26.51898.200803215243</td>\n",
       "      <td>10.130.2.26</td>\n",
       "      <td>None</td>\n",
       "    </tr>\n",
       "    <tr>\n",
       "      <th>5</th>\n",
       "      <td>8815</td>\n",
       "      <td>UC_REPO_dba</td>\n",
       "      <td>BLUADMIN</td>\n",
       "      <td>BLUADMIN</td>\n",
       "      <td>BLUADMIN</td>\n",
       "      <td>10.130.2.26.56640.200804183405</td>\n",
       "      <td>10.130.2.26</td>\n",
       "      <td>None</td>\n",
       "    </tr>\n",
       "    <tr>\n",
       "      <th>6</th>\n",
       "      <td>104</td>\n",
       "      <td>DVCACHE</td>\n",
       "      <td>CACHEADMIN</td>\n",
       "      <td>CACHEADMIN</td>\n",
       "      <td>CACHEADMIN</td>\n",
       "      <td>10.128.2.30.36762.200803215236</td>\n",
       "      <td>10.128.2.30</td>\n",
       "      <td>10.128.2.30</td>\n",
       "    </tr>\n",
       "    <tr>\n",
       "      <th>7</th>\n",
       "      <td>20477</td>\n",
       "      <td>python</td>\n",
       "      <td>db2Dean</td>\n",
       "      <td>USER1030</td>\n",
       "      <td>USER1030</td>\n",
       "      <td>192.168.0.5.56246.200805210737</td>\n",
       "      <td>10.129.0.1</td>\n",
       "      <td>Deans-MacBook-Pro-3.local</td>\n",
       "    </tr>\n",
       "    <tr>\n",
       "      <th>8</th>\n",
       "      <td>20477</td>\n",
       "      <td>python</td>\n",
       "      <td>db2Dean</td>\n",
       "      <td>USER1030</td>\n",
       "      <td>USER1030</td>\n",
       "      <td>192.168.0.5.56246.200805210737</td>\n",
       "      <td>None</td>\n",
       "      <td>None</td>\n",
       "    </tr>\n",
       "  </tbody>\n",
       "</table>\n",
       "</div>"
      ],
      "text/plain": [
       "   APPLICATION_HANDLE APPLICATION_NAME EXECUTION_ID SESSION_AUTH_ID  \\\n",
       "0                 106      UC_REPO_run     BLUADMIN        BLUADMIN   \n",
       "1                8816      UC_REPO_dba     BLUADMIN        BLUADMIN   \n",
       "2                9690     dvapi-server   1000320900        USER1030   \n",
       "3               20474           python      db2Dean        USER1008   \n",
       "4                 105      UC_REPO_run     BLUADMIN        BLUADMIN   \n",
       "5                8815      UC_REPO_dba     BLUADMIN        BLUADMIN   \n",
       "6                 104          DVCACHE   CACHEADMIN      CACHEADMIN   \n",
       "7               20477           python      db2Dean        USER1030   \n",
       "8               20477           python      db2Dean        USER1030   \n",
       "\n",
       "  SYSTEM_AUTH_ID                  APPLICATION_ID CLIENT_IPADDR  \\\n",
       "0       BLUADMIN  10.130.2.26.51906.200803215244   10.130.2.26   \n",
       "1       BLUADMIN  10.130.2.26.56650.200804183406   10.130.2.26   \n",
       "2       USER1030  10.130.2.12.54812.200804202656   10.130.2.12   \n",
       "3       USER1008  192.168.0.5.56245.200805210720    10.128.0.1   \n",
       "4       BLUADMIN  10.130.2.26.51898.200803215243   10.130.2.26   \n",
       "5       BLUADMIN  10.130.2.26.56640.200804183405   10.130.2.26   \n",
       "6     CACHEADMIN  10.128.2.30.36762.200803215236   10.128.2.30   \n",
       "7       USER1030  192.168.0.5.56246.200805210737    10.129.0.1   \n",
       "8       USER1030  192.168.0.5.56246.200805210737          None   \n",
       "\n",
       "           CLIENT_WRKSTNNAME  \n",
       "0                10.130.2.26  \n",
       "1                10.130.2.26  \n",
       "2    dv-api-576b867b9f-2rgzq  \n",
       "3  Deans-MacBook-Pro-3.local  \n",
       "4                       None  \n",
       "5                       None  \n",
       "6                10.128.2.30  \n",
       "7  Deans-MacBook-Pro-3.local  \n",
       "8                       None  "
      ]
     },
     "execution_count": 8,
     "metadata": {},
     "output_type": "execute_result"
    }
   ],
   "source": [
    "%sql CONNECT TO bigsql USER {user1030_id} USING {user1030_pw} HOST cp4d-cpd-cp4d.apps.cpd.170-224-51-134.nip.io PORT 31319\n",
    "%sql SELECT application_handle, application_name,EXECUTION_ID, SESSION_AUTH_ID, \\\n",
    "       SYSTEM_AUTH_ID, application_id, CLIENT_IPADDR, CLIENT_WRKSTNNAME \\\n",
    "         FROM TABLE(sysproc.MON_GET_CONNECTION(cast(NULL as bigint), -2)) AS t  \\\n",
    "        ORDER BY rows_returned DESC;"
   ]
  },
  {
   "cell_type": "code",
   "execution_count": 9,
   "metadata": {},
   "outputs": [
    {
     "name": "stdout",
     "output_type": "stream",
     "text": [
      "Connection closed.\n"
     ]
    }
   ],
   "source": [
    "%sql connect reset"
   ]
  },
  {
   "cell_type": "markdown",
   "metadata": {},
   "source": [
    "##### Switch user to brad after commit.  User will not switch if there is any uncommitted work."
   ]
  },
  {
   "cell_type": "code",
   "execution_count": 10,
   "metadata": {},
   "outputs": [],
   "source": [
    "ibm_db.exec_immediate(conn, \"commit\")\n",
    "stmt=ibm_db.set_option(conn, tc_brad, 1)"
   ]
  },
  {
   "cell_type": "markdown",
   "metadata": {},
   "source": [
    "Run a query as brad"
   ]
  },
  {
   "cell_type": "code",
   "execution_count": 11,
   "metadata": {},
   "outputs": [
    {
     "name": "stdout",
     "output_type": "stream",
     "text": [
      "Number of stock rows selected by db2dean = 500000\n"
     ]
    }
   ],
   "source": [
    "stmt=ibm_db.exec_immediate(conn, query)\n",
    "result = ibm_db.fetch_both(stmt)\n",
    "print (\"Number of stock rows selected by db2dean = \"+ str(result[0]))"
   ]
  },
  {
   "cell_type": "markdown",
   "metadata": {},
   "source": [
    "Check the connections and verify that the Session and System authorization ids are \"BRAD\".  It is interesting that the Execution_ID is is the CPD log in associated with the DV user who established the connection.    "
   ]
  },
  {
   "cell_type": "code",
   "execution_count": 12,
   "metadata": {},
   "outputs": [
    {
     "name": "stdout",
     "output_type": "stream",
     "text": [
      "Connection successful.\n"
     ]
    },
    {
     "data": {
      "text/html": [
       "<div>\n",
       "<style scoped>\n",
       "    .dataframe tbody tr th:only-of-type {\n",
       "        vertical-align: middle;\n",
       "    }\n",
       "\n",
       "    .dataframe tbody tr th {\n",
       "        vertical-align: top;\n",
       "    }\n",
       "\n",
       "    .dataframe thead th {\n",
       "        text-align: right;\n",
       "    }\n",
       "</style>\n",
       "<table border=\"1\" class=\"dataframe\">\n",
       "  <thead>\n",
       "    <tr style=\"text-align: right;\">\n",
       "      <th></th>\n",
       "      <th>APPLICATION_HANDLE</th>\n",
       "      <th>APPLICATION_NAME</th>\n",
       "      <th>EXECUTION_ID</th>\n",
       "      <th>SESSION_AUTH_ID</th>\n",
       "      <th>SYSTEM_AUTH_ID</th>\n",
       "      <th>APPLICATION_ID</th>\n",
       "      <th>CLIENT_IPADDR</th>\n",
       "      <th>CLIENT_WRKSTNNAME</th>\n",
       "    </tr>\n",
       "  </thead>\n",
       "  <tbody>\n",
       "    <tr>\n",
       "      <th>0</th>\n",
       "      <td>106</td>\n",
       "      <td>UC_REPO_run</td>\n",
       "      <td>BLUADMIN</td>\n",
       "      <td>BLUADMIN</td>\n",
       "      <td>BLUADMIN</td>\n",
       "      <td>10.130.2.26.51906.200803215244</td>\n",
       "      <td>10.130.2.26</td>\n",
       "      <td>10.130.2.26</td>\n",
       "    </tr>\n",
       "    <tr>\n",
       "      <th>1</th>\n",
       "      <td>8816</td>\n",
       "      <td>UC_REPO_dba</td>\n",
       "      <td>BLUADMIN</td>\n",
       "      <td>BLUADMIN</td>\n",
       "      <td>BLUADMIN</td>\n",
       "      <td>10.130.2.26.56650.200804183406</td>\n",
       "      <td>10.130.2.26</td>\n",
       "      <td>10.130.2.26</td>\n",
       "    </tr>\n",
       "    <tr>\n",
       "      <th>2</th>\n",
       "      <td>9690</td>\n",
       "      <td>dvapi-server</td>\n",
       "      <td>1000320900</td>\n",
       "      <td>USER1030</td>\n",
       "      <td>USER1030</td>\n",
       "      <td>10.130.2.12.54812.200804202656</td>\n",
       "      <td>10.130.2.12</td>\n",
       "      <td>dv-api-576b867b9f-2rgzq</td>\n",
       "    </tr>\n",
       "    <tr>\n",
       "      <th>3</th>\n",
       "      <td>20474</td>\n",
       "      <td>python</td>\n",
       "      <td>db2Dean</td>\n",
       "      <td>BRAD</td>\n",
       "      <td>BRAD</td>\n",
       "      <td>192.168.0.5.56245.200805210720</td>\n",
       "      <td>10.128.0.1</td>\n",
       "      <td>Deans-MacBook-Pro-3.local</td>\n",
       "    </tr>\n",
       "    <tr>\n",
       "      <th>4</th>\n",
       "      <td>105</td>\n",
       "      <td>UC_REPO_run</td>\n",
       "      <td>BLUADMIN</td>\n",
       "      <td>BLUADMIN</td>\n",
       "      <td>BLUADMIN</td>\n",
       "      <td>10.130.2.26.51898.200803215243</td>\n",
       "      <td>10.130.2.26</td>\n",
       "      <td>None</td>\n",
       "    </tr>\n",
       "    <tr>\n",
       "      <th>5</th>\n",
       "      <td>8815</td>\n",
       "      <td>UC_REPO_dba</td>\n",
       "      <td>BLUADMIN</td>\n",
       "      <td>BLUADMIN</td>\n",
       "      <td>BLUADMIN</td>\n",
       "      <td>10.130.2.26.56640.200804183405</td>\n",
       "      <td>10.130.2.26</td>\n",
       "      <td>None</td>\n",
       "    </tr>\n",
       "    <tr>\n",
       "      <th>6</th>\n",
       "      <td>104</td>\n",
       "      <td>DVCACHE</td>\n",
       "      <td>CACHEADMIN</td>\n",
       "      <td>CACHEADMIN</td>\n",
       "      <td>CACHEADMIN</td>\n",
       "      <td>10.128.2.30.36762.200803215236</td>\n",
       "      <td>10.128.2.30</td>\n",
       "      <td>10.128.2.30</td>\n",
       "    </tr>\n",
       "    <tr>\n",
       "      <th>7</th>\n",
       "      <td>20479</td>\n",
       "      <td>python</td>\n",
       "      <td>db2Dean</td>\n",
       "      <td>USER1030</td>\n",
       "      <td>USER1030</td>\n",
       "      <td>192.168.0.5.56247.200805210759</td>\n",
       "      <td>10.130.0.1</td>\n",
       "      <td>Deans-MacBook-Pro-3.local</td>\n",
       "    </tr>\n",
       "    <tr>\n",
       "      <th>8</th>\n",
       "      <td>20479</td>\n",
       "      <td>python</td>\n",
       "      <td>db2Dean</td>\n",
       "      <td>USER1030</td>\n",
       "      <td>USER1030</td>\n",
       "      <td>192.168.0.5.56247.200805210759</td>\n",
       "      <td>None</td>\n",
       "      <td>None</td>\n",
       "    </tr>\n",
       "  </tbody>\n",
       "</table>\n",
       "</div>"
      ],
      "text/plain": [
       "   APPLICATION_HANDLE APPLICATION_NAME EXECUTION_ID SESSION_AUTH_ID  \\\n",
       "0                 106      UC_REPO_run     BLUADMIN        BLUADMIN   \n",
       "1                8816      UC_REPO_dba     BLUADMIN        BLUADMIN   \n",
       "2                9690     dvapi-server   1000320900        USER1030   \n",
       "3               20474           python      db2Dean        BRAD       \n",
       "4                 105      UC_REPO_run     BLUADMIN        BLUADMIN   \n",
       "5                8815      UC_REPO_dba     BLUADMIN        BLUADMIN   \n",
       "6                 104          DVCACHE   CACHEADMIN      CACHEADMIN   \n",
       "7               20479           python      db2Dean        USER1030   \n",
       "8               20479           python      db2Dean        USER1030   \n",
       "\n",
       "  SYSTEM_AUTH_ID                  APPLICATION_ID CLIENT_IPADDR  \\\n",
       "0       BLUADMIN  10.130.2.26.51906.200803215244   10.130.2.26   \n",
       "1       BLUADMIN  10.130.2.26.56650.200804183406   10.130.2.26   \n",
       "2       USER1030  10.130.2.12.54812.200804202656   10.130.2.12   \n",
       "3       BRAD      192.168.0.5.56245.200805210720    10.128.0.1   \n",
       "4       BLUADMIN  10.130.2.26.51898.200803215243   10.130.2.26   \n",
       "5       BLUADMIN  10.130.2.26.56640.200804183405   10.130.2.26   \n",
       "6     CACHEADMIN  10.128.2.30.36762.200803215236   10.128.2.30   \n",
       "7       USER1030  192.168.0.5.56247.200805210759    10.130.0.1   \n",
       "8       USER1030  192.168.0.5.56247.200805210759          None   \n",
       "\n",
       "           CLIENT_WRKSTNNAME  \n",
       "0                10.130.2.26  \n",
       "1                10.130.2.26  \n",
       "2    dv-api-576b867b9f-2rgzq  \n",
       "3  Deans-MacBook-Pro-3.local  \n",
       "4                       None  \n",
       "5                       None  \n",
       "6                10.128.2.30  \n",
       "7  Deans-MacBook-Pro-3.local  \n",
       "8                       None  "
      ]
     },
     "execution_count": 12,
     "metadata": {},
     "output_type": "execute_result"
    }
   ],
   "source": [
    "%sql CONNECT TO bigsql USER user1030 USING k?0mVT@I6m0Bm0?@ \\\n",
    "        HOST cp4d-cpd-cp4d.apps.cpd.170-224-51-134.nip.io PORT 31319;\n",
    "%sql SELECT application_handle, application_name,EXECUTION_ID, SESSION_AUTH_ID, \\\n",
    "       SYSTEM_AUTH_ID, application_id, CLIENT_IPADDR, CLIENT_WRKSTNNAME \\\n",
    "         FROM TABLE(sysproc.MON_GET_CONNECTION(cast(NULL as bigint), -2)) AS t  \\\n",
    "        ORDER BY rows_returned DESC;"
   ]
  },
  {
   "cell_type": "code",
   "execution_count": 13,
   "metadata": {},
   "outputs": [
    {
     "name": "stdout",
     "output_type": "stream",
     "text": [
      "Connection closed.\n"
     ]
    }
   ],
   "source": [
    "%sql connect reset"
   ]
  },
  {
   "cell_type": "markdown",
   "metadata": {},
   "source": [
    "##### Switch the connection to bob, run a query and verify that the connection was running as bob.  "
   ]
  },
  {
   "cell_type": "code",
   "execution_count": 14,
   "metadata": {},
   "outputs": [],
   "source": [
    "ibm_db.exec_immediate(conn, \"commit\")\n",
    "stmt=ibm_db.set_option(conn, tc_bob, 1)"
   ]
  },
  {
   "cell_type": "code",
   "execution_count": 15,
   "metadata": {},
   "outputs": [
    {
     "name": "stdout",
     "output_type": "stream",
     "text": [
      "Number of stock rows selected by db2dean = 500000\n"
     ]
    }
   ],
   "source": [
    "stmt=ibm_db.exec_immediate(conn, query)\n",
    "result = ibm_db.fetch_both(stmt)\n",
    "print (\"Number of stock rows selected by db2dean = \"+ str(result[0]))"
   ]
  },
  {
   "cell_type": "code",
   "execution_count": 16,
   "metadata": {},
   "outputs": [
    {
     "name": "stdout",
     "output_type": "stream",
     "text": [
      "Connection successful.\n"
     ]
    },
    {
     "data": {
      "text/html": [
       "<div>\n",
       "<style scoped>\n",
       "    .dataframe tbody tr th:only-of-type {\n",
       "        vertical-align: middle;\n",
       "    }\n",
       "\n",
       "    .dataframe tbody tr th {\n",
       "        vertical-align: top;\n",
       "    }\n",
       "\n",
       "    .dataframe thead th {\n",
       "        text-align: right;\n",
       "    }\n",
       "</style>\n",
       "<table border=\"1\" class=\"dataframe\">\n",
       "  <thead>\n",
       "    <tr style=\"text-align: right;\">\n",
       "      <th></th>\n",
       "      <th>APPLICATION_HANDLE</th>\n",
       "      <th>APPLICATION_NAME</th>\n",
       "      <th>EXECUTION_ID</th>\n",
       "      <th>SESSION_AUTH_ID</th>\n",
       "      <th>SYSTEM_AUTH_ID</th>\n",
       "      <th>APPLICATION_ID</th>\n",
       "      <th>CLIENT_IPADDR</th>\n",
       "      <th>CLIENT_WRKSTNNAME</th>\n",
       "    </tr>\n",
       "  </thead>\n",
       "  <tbody>\n",
       "    <tr>\n",
       "      <th>0</th>\n",
       "      <td>106</td>\n",
       "      <td>UC_REPO_run</td>\n",
       "      <td>BLUADMIN</td>\n",
       "      <td>BLUADMIN</td>\n",
       "      <td>BLUADMIN</td>\n",
       "      <td>10.130.2.26.51906.200803215244</td>\n",
       "      <td>10.130.2.26</td>\n",
       "      <td>10.130.2.26</td>\n",
       "    </tr>\n",
       "    <tr>\n",
       "      <th>1</th>\n",
       "      <td>8816</td>\n",
       "      <td>UC_REPO_dba</td>\n",
       "      <td>BLUADMIN</td>\n",
       "      <td>BLUADMIN</td>\n",
       "      <td>BLUADMIN</td>\n",
       "      <td>10.130.2.26.56650.200804183406</td>\n",
       "      <td>10.130.2.26</td>\n",
       "      <td>10.130.2.26</td>\n",
       "    </tr>\n",
       "    <tr>\n",
       "      <th>2</th>\n",
       "      <td>20474</td>\n",
       "      <td>python</td>\n",
       "      <td>db2Dean</td>\n",
       "      <td>BOB</td>\n",
       "      <td>BOB</td>\n",
       "      <td>192.168.0.5.56245.200805210720</td>\n",
       "      <td>10.128.0.1</td>\n",
       "      <td>Deans-MacBook-Pro-3.local</td>\n",
       "    </tr>\n",
       "    <tr>\n",
       "      <th>3</th>\n",
       "      <td>9690</td>\n",
       "      <td>dvapi-server</td>\n",
       "      <td>1000320900</td>\n",
       "      <td>USER1030</td>\n",
       "      <td>USER1030</td>\n",
       "      <td>10.130.2.12.54812.200804202656</td>\n",
       "      <td>10.130.2.12</td>\n",
       "      <td>dv-api-576b867b9f-2rgzq</td>\n",
       "    </tr>\n",
       "    <tr>\n",
       "      <th>4</th>\n",
       "      <td>105</td>\n",
       "      <td>UC_REPO_run</td>\n",
       "      <td>BLUADMIN</td>\n",
       "      <td>BLUADMIN</td>\n",
       "      <td>BLUADMIN</td>\n",
       "      <td>10.130.2.26.51898.200803215243</td>\n",
       "      <td>10.130.2.26</td>\n",
       "      <td>None</td>\n",
       "    </tr>\n",
       "    <tr>\n",
       "      <th>5</th>\n",
       "      <td>8815</td>\n",
       "      <td>UC_REPO_dba</td>\n",
       "      <td>BLUADMIN</td>\n",
       "      <td>BLUADMIN</td>\n",
       "      <td>BLUADMIN</td>\n",
       "      <td>10.130.2.26.56640.200804183405</td>\n",
       "      <td>10.130.2.26</td>\n",
       "      <td>None</td>\n",
       "    </tr>\n",
       "    <tr>\n",
       "      <th>6</th>\n",
       "      <td>104</td>\n",
       "      <td>DVCACHE</td>\n",
       "      <td>CACHEADMIN</td>\n",
       "      <td>CACHEADMIN</td>\n",
       "      <td>CACHEADMIN</td>\n",
       "      <td>10.128.2.30.36762.200803215236</td>\n",
       "      <td>10.128.2.30</td>\n",
       "      <td>10.128.2.30</td>\n",
       "    </tr>\n",
       "    <tr>\n",
       "      <th>7</th>\n",
       "      <td>20482</td>\n",
       "      <td>python</td>\n",
       "      <td>db2Dean</td>\n",
       "      <td>USER1030</td>\n",
       "      <td>USER1030</td>\n",
       "      <td>192.168.0.5.56252.200805210815</td>\n",
       "      <td>10.128.0.1</td>\n",
       "      <td>Deans-MacBook-Pro-3.local</td>\n",
       "    </tr>\n",
       "    <tr>\n",
       "      <th>8</th>\n",
       "      <td>20482</td>\n",
       "      <td>python</td>\n",
       "      <td>db2Dean</td>\n",
       "      <td>USER1030</td>\n",
       "      <td>USER1030</td>\n",
       "      <td>192.168.0.5.56252.200805210815</td>\n",
       "      <td>None</td>\n",
       "      <td>None</td>\n",
       "    </tr>\n",
       "  </tbody>\n",
       "</table>\n",
       "</div>"
      ],
      "text/plain": [
       "   APPLICATION_HANDLE APPLICATION_NAME EXECUTION_ID SESSION_AUTH_ID  \\\n",
       "0                 106      UC_REPO_run     BLUADMIN        BLUADMIN   \n",
       "1                8816      UC_REPO_dba     BLUADMIN        BLUADMIN   \n",
       "2               20474           python      db2Dean        BOB        \n",
       "3                9690     dvapi-server   1000320900        USER1030   \n",
       "4                 105      UC_REPO_run     BLUADMIN        BLUADMIN   \n",
       "5                8815      UC_REPO_dba     BLUADMIN        BLUADMIN   \n",
       "6                 104          DVCACHE   CACHEADMIN      CACHEADMIN   \n",
       "7               20482           python      db2Dean        USER1030   \n",
       "8               20482           python      db2Dean        USER1030   \n",
       "\n",
       "  SYSTEM_AUTH_ID                  APPLICATION_ID CLIENT_IPADDR  \\\n",
       "0       BLUADMIN  10.130.2.26.51906.200803215244   10.130.2.26   \n",
       "1       BLUADMIN  10.130.2.26.56650.200804183406   10.130.2.26   \n",
       "2       BOB       192.168.0.5.56245.200805210720    10.128.0.1   \n",
       "3       USER1030  10.130.2.12.54812.200804202656   10.130.2.12   \n",
       "4       BLUADMIN  10.130.2.26.51898.200803215243   10.130.2.26   \n",
       "5       BLUADMIN  10.130.2.26.56640.200804183405   10.130.2.26   \n",
       "6     CACHEADMIN  10.128.2.30.36762.200803215236   10.128.2.30   \n",
       "7       USER1030  192.168.0.5.56252.200805210815    10.128.0.1   \n",
       "8       USER1030  192.168.0.5.56252.200805210815          None   \n",
       "\n",
       "           CLIENT_WRKSTNNAME  \n",
       "0                10.130.2.26  \n",
       "1                10.130.2.26  \n",
       "2  Deans-MacBook-Pro-3.local  \n",
       "3    dv-api-576b867b9f-2rgzq  \n",
       "4                       None  \n",
       "5                       None  \n",
       "6                10.128.2.30  \n",
       "7  Deans-MacBook-Pro-3.local  \n",
       "8                       None  "
      ]
     },
     "execution_count": 16,
     "metadata": {},
     "output_type": "execute_result"
    }
   ],
   "source": [
    "%sql CONNECT TO bigsql USER user1030 USING k?0mVT@I6m0Bm0?@ \\\n",
    "        HOST cp4d-cpd-cp4d.apps.cpd.170-224-51-134.nip.io PORT 31319;\n",
    "%sql SELECT application_handle, application_name,EXECUTION_ID, SESSION_AUTH_ID, \\\n",
    "       SYSTEM_AUTH_ID, application_id, CLIENT_IPADDR, CLIENT_WRKSTNNAME \\\n",
    "         FROM TABLE(sysproc.MON_GET_CONNECTION(cast(NULL as bigint), -2)) AS t  \\\n",
    "        ORDER BY rows_returned DESC;"
   ]
  },
  {
   "cell_type": "code",
   "execution_count": 17,
   "metadata": {},
   "outputs": [
    {
     "name": "stdout",
     "output_type": "stream",
     "text": [
      "Connection closed.\n"
     ]
    }
   ],
   "source": [
    "%sql connect reset"
   ]
  },
  {
   "cell_type": "code",
   "execution_count": 18,
   "metadata": {},
   "outputs": [
    {
     "data": {
      "text/plain": [
       "True"
      ]
     },
     "execution_count": 18,
     "metadata": {},
     "output_type": "execute_result"
    }
   ],
   "source": [
    "ibm_db.close(conn)"
   ]
  },
  {
   "cell_type": "code",
   "execution_count": null,
   "metadata": {},
   "outputs": [],
   "source": []
  },
  {
   "cell_type": "code",
   "execution_count": null,
   "metadata": {},
   "outputs": [],
   "source": []
  }
 ],
 "metadata": {
  "anaconda-cloud": {},
  "kernelspec": {
   "display_name": "Python 3",
   "language": "python",
   "name": "python3"
  },
  "language_info": {
   "codemirror_mode": {
    "name": "ipython",
    "version": 3
   },
   "file_extension": ".py",
   "mimetype": "text/x-python",
   "name": "python",
   "nbconvert_exporter": "python",
   "pygments_lexer": "ipython3",
   "version": "3.7.3"
  }
 },
 "nbformat": 4,
 "nbformat_minor": 2
}
