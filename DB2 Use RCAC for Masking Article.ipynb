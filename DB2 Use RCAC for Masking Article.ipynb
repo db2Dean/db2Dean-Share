{
 "cells": [
  {
   "cell_type": "markdown",
   "metadata": {},
   "source": [
    "<h1>Use RCAC to Create Test Data</h1>"
   ]
  },
  {
   "cell_type": "markdown",
   "metadata": {},
   "source": [
    "<p><strong>Welcome!</strong> This notebook has all of the commands I discuss in the db2Dean.com article about using RCAC to create Test Data plus a few others.  The idea is to create column masks in the production system that when called by any user id used for extracting data for test the data will be automatically changed certain columns without the user having to do anything other than querying the tables.  </p>"
   ]
  },
  {
   "cell_type": "markdown",
   "metadata": {},
   "source": [
    "<h2 id=\"dataset\">About Db2 Magic Commands</h2>"
   ]
  },
  {
   "cell_type": "markdown",
   "metadata": {},
   "source": [
    "Db2 Magic commands make it easy to run SQL in cells in your Jupyter Notebook as is without any Python code.  This notebook shows how to enable this feature in Cloud Pak for Data.  Using these examples would probably allow you to use them in Watson Studio outside of CPD as well.  I only show some basic Magic Commands here.  For more information on Db2 Magic Commands and lots of example see https://github.com/IBM/db2-jupyter/"
   ]
  },
  {
   "cell_type": "markdown",
   "metadata": {},
   "source": [
    "<h2 id=\"pandas\">Get the db2 magic commands notebook from github: <code>db2.ipynb</code></h2>"
   ]
  },
  {
   "cell_type": "markdown",
   "metadata": {},
   "source": [
    "You must get and run the db2.iyndb notebook before using the magic commands needed for these examples.   "
   ]
  },
  {
   "cell_type": "code",
   "execution_count": 1,
   "metadata": {},
   "outputs": [
    {
     "data": {
      "text/plain": [
       "'db2 (5).ipynb'"
      ]
     },
     "execution_count": 1,
     "metadata": {},
     "output_type": "execute_result"
    }
   ],
   "source": [
    "import wget\n",
    "url = 'https://raw.githubusercontent.com/IBM/db2-jupyter/master/db2.ipynb'\n",
    "filename = wget.download(url)\n",
    "filename"
   ]
  },
  {
   "cell_type": "markdown",
   "metadata": {},
   "source": [
    "### Run the db2 magic comands notebook"
   ]
  },
  {
   "cell_type": "code",
   "execution_count": 2,
   "metadata": {},
   "outputs": [
    {
     "name": "stdout",
     "output_type": "stream",
     "text": [
      "Db2 Extensions Loaded.\n"
     ]
    }
   ],
   "source": [
    "%run \"$filename\""
   ]
  },
  {
   "cell_type": "code",
   "execution_count": null,
   "metadata": {},
   "outputs": [],
   "source": [
    "# If the wget commands above don't work for you, uncomment and try these instead.\n",
    "# !wget https://raw.githubusercontent.com/IBM/db2-jupyter/master/db2.ipynb\n",
    "# %run db2.ipynb"
   ]
  },
  {
   "cell_type": "markdown",
   "metadata": {},
   "source": [
    "### Connect to the Db2 Database\n",
    "User bob's data will not be masked while user testdata's datra will be masked."
   ]
  },
  {
   "cell_type": "code",
   "execution_count": null,
   "metadata": {},
   "outputs": [],
   "source": [
    "# Create users and set passwords with these commands as root in the linux container\n",
    "# For Db2 on other operating systems, use that OS's facilities to create users. \n",
    "\n",
    "# useradd bob\n",
    "# echo \"password\" | passwd --stdin \"bob\"\n",
    "# useradd testdata\n",
    "# echo \"password\" | passwd --stdin \"testdata\""
   ]
  },
  {
   "cell_type": "code",
   "execution_count": 88,
   "metadata": {},
   "outputs": [
    {
     "name": "stdout",
     "output_type": "stream",
     "text": [
      "Connection closed.\n",
      "Connection successful.\n"
     ]
    }
   ],
   "source": [
    "%sql CONNECT RESET\n",
    "%sql CONNECT TO sample USER db2inst1 USING ibmdb2aa HOST localhost PORT 50000;"
   ]
  },
  {
   "cell_type": "markdown",
   "metadata": {},
   "source": [
    "##### Run a select command"
   ]
  },
  {
   "cell_type": "code",
   "execution_count": null,
   "metadata": {},
   "outputs": [],
   "source": [
    "%sql select dbms_utility.get_hash_value(userid, 1,50), dbms_utility.get_hash_value(ssn, 1,50) from db2inst1.patient"
   ]
  },
  {
   "cell_type": "markdown",
   "metadata": {},
   "source": [
    "##### Create a table of names \n",
    "Use the default sample database employee table to create at table of first and last names with a column that is a sequential integer used to reference them for substitutions."
   ]
  },
  {
   "cell_type": "code",
   "execution_count": 40,
   "metadata": {},
   "outputs": [
    {
     "name": "stdout",
     "output_type": "stream",
     "text": [
      "Command completed.\n"
     ]
    }
   ],
   "source": [
    "%%sql \n",
    "drop table if exists sub_name_list;\n",
    "create table sub_name_list as\n",
    "      (select row_number() over() as seq\n",
    "            , firstnme as firstname\n",
    "            , lastname\n",
    "        from employee\n",
    "      ) with data;"
   ]
  },
  {
   "cell_type": "code",
   "execution_count": 53,
   "metadata": {},
   "outputs": [
    {
     "data": {
      "text/html": [
       "<div>\n",
       "<style scoped>\n",
       "    .dataframe tbody tr th:only-of-type {\n",
       "        vertical-align: middle;\n",
       "    }\n",
       "\n",
       "    .dataframe tbody tr th {\n",
       "        vertical-align: top;\n",
       "    }\n",
       "\n",
       "    .dataframe thead th {\n",
       "        text-align: right;\n",
       "    }\n",
       "</style>\n",
       "<table border=\"1\" class=\"dataframe\">\n",
       "  <thead>\n",
       "    <tr style=\"text-align: right;\">\n",
       "      <th></th>\n",
       "      <th>COLNAME</th>\n",
       "      <th>TYPESCHEMA</th>\n",
       "      <th>TYPENAME</th>\n",
       "      <th>LENGTH</th>\n",
       "      <th>SCALE</th>\n",
       "      <th>NULLABLE</th>\n",
       "    </tr>\n",
       "  </thead>\n",
       "  <tbody>\n",
       "    <tr>\n",
       "      <th>0</th>\n",
       "      <td>SEQ</td>\n",
       "      <td>SYSIBM</td>\n",
       "      <td>BIGINT</td>\n",
       "      <td>8</td>\n",
       "      <td>0</td>\n",
       "      <td>N</td>\n",
       "    </tr>\n",
       "    <tr>\n",
       "      <th>1</th>\n",
       "      <td>FIRSTNAME</td>\n",
       "      <td>SYSIBM</td>\n",
       "      <td>VARCHAR</td>\n",
       "      <td>12</td>\n",
       "      <td>0</td>\n",
       "      <td>N</td>\n",
       "    </tr>\n",
       "    <tr>\n",
       "      <th>2</th>\n",
       "      <td>LASTNAME</td>\n",
       "      <td>SYSIBM</td>\n",
       "      <td>VARCHAR</td>\n",
       "      <td>15</td>\n",
       "      <td>0</td>\n",
       "      <td>N</td>\n",
       "    </tr>\n",
       "  </tbody>\n",
       "</table>\n",
       "</div>"
      ],
      "text/plain": [
       "     COLNAME TYPESCHEMA TYPENAME  LENGTH  SCALE NULLABLE\n",
       "0        SEQ   SYSIBM     BIGINT       8      0        N\n",
       "1  FIRSTNAME   SYSIBM    VARCHAR      12      0        N\n",
       "2   LASTNAME   SYSIBM    VARCHAR      15      0        N"
      ]
     },
     "execution_count": 53,
     "metadata": {},
     "output_type": "execute_result"
    }
   ],
   "source": [
    "%sql describe table sub_name_list"
   ]
  },
  {
   "cell_type": "code",
   "execution_count": 7,
   "metadata": {},
   "outputs": [
    {
     "data": {
      "text/html": [
       "<div>\n",
       "<style scoped>\n",
       "    .dataframe tbody tr th:only-of-type {\n",
       "        vertical-align: middle;\n",
       "    }\n",
       "\n",
       "    .dataframe tbody tr th {\n",
       "        vertical-align: top;\n",
       "    }\n",
       "\n",
       "    .dataframe thead th {\n",
       "        text-align: right;\n",
       "    }\n",
       "</style>\n",
       "<table border=\"1\" class=\"dataframe\">\n",
       "  <thead>\n",
       "    <tr style=\"text-align: right;\">\n",
       "      <th></th>\n",
       "      <th>SEQ</th>\n",
       "      <th>FIRSTNAME</th>\n",
       "      <th>LASTNAME</th>\n",
       "    </tr>\n",
       "  </thead>\n",
       "  <tbody>\n",
       "    <tr>\n",
       "      <th>0</th>\n",
       "      <td>1</td>\n",
       "      <td>CHRISTINE</td>\n",
       "      <td>HAAS</td>\n",
       "    </tr>\n",
       "    <tr>\n",
       "      <th>1</th>\n",
       "      <td>2</td>\n",
       "      <td>MICHAEL</td>\n",
       "      <td>THOMPSON</td>\n",
       "    </tr>\n",
       "    <tr>\n",
       "      <th>2</th>\n",
       "      <td>3</td>\n",
       "      <td>SALLY</td>\n",
       "      <td>KWAN</td>\n",
       "    </tr>\n",
       "    <tr>\n",
       "      <th>3</th>\n",
       "      <td>4</td>\n",
       "      <td>JOHN</td>\n",
       "      <td>GEYER</td>\n",
       "    </tr>\n",
       "    <tr>\n",
       "      <th>4</th>\n",
       "      <td>5</td>\n",
       "      <td>IRVING</td>\n",
       "      <td>STERN</td>\n",
       "    </tr>\n",
       "  </tbody>\n",
       "</table>\n",
       "</div>"
      ],
      "text/plain": [
       "   SEQ  FIRSTNAME  LASTNAME\n",
       "0    1  CHRISTINE      HAAS\n",
       "1    2    MICHAEL  THOMPSON\n",
       "2    3      SALLY      KWAN\n",
       "3    4       JOHN     GEYER\n",
       "4    5     IRVING     STERN"
      ]
     },
     "execution_count": 7,
     "metadata": {},
     "output_type": "execute_result"
    }
   ],
   "source": [
    "%sql select * from sub_name_list fetch first 5 rows only;"
   ]
  },
  {
   "cell_type": "markdown",
   "metadata": {},
   "source": [
    "### Show the GOSALESHR.EMPLOYEE TABLE\n",
    "This table comes with the sample GOSALES tables provided by IBM.\n",
    "https://www.ibm.com/support/knowledgecenter/SS62YD_4.1.1/com.ibm.sampledata.go.doc/topics/download.html"
   ]
  },
  {
   "cell_type": "code",
   "execution_count": 20,
   "metadata": {},
   "outputs": [
    {
     "data": {
      "text/html": [
       "<div>\n",
       "<style scoped>\n",
       "    .dataframe tbody tr th:only-of-type {\n",
       "        vertical-align: middle;\n",
       "    }\n",
       "\n",
       "    .dataframe tbody tr th {\n",
       "        vertical-align: top;\n",
       "    }\n",
       "\n",
       "    .dataframe thead th {\n",
       "        text-align: right;\n",
       "    }\n",
       "</style>\n",
       "<table border=\"1\" class=\"dataframe\">\n",
       "  <thead>\n",
       "    <tr style=\"text-align: right;\">\n",
       "      <th></th>\n",
       "      <th>COLNAME</th>\n",
       "      <th>TYPESCHEMA</th>\n",
       "      <th>TYPENAME</th>\n",
       "      <th>LENGTH</th>\n",
       "      <th>SCALE</th>\n",
       "      <th>NULLABLE</th>\n",
       "    </tr>\n",
       "  </thead>\n",
       "  <tbody>\n",
       "    <tr>\n",
       "      <th>0</th>\n",
       "      <td>EMPLOYEE_CODE</td>\n",
       "      <td>SYSIBM</td>\n",
       "      <td>INTEGER</td>\n",
       "      <td>4</td>\n",
       "      <td>0</td>\n",
       "      <td>N</td>\n",
       "    </tr>\n",
       "    <tr>\n",
       "      <th>1</th>\n",
       "      <td>FIRST_NAME</td>\n",
       "      <td>SYSIBM</td>\n",
       "      <td>VARCHAR</td>\n",
       "      <td>75</td>\n",
       "      <td>0</td>\n",
       "      <td>N</td>\n",
       "    </tr>\n",
       "    <tr>\n",
       "      <th>2</th>\n",
       "      <td>FIRST_NAME_MB</td>\n",
       "      <td>SYSIBM</td>\n",
       "      <td>VARCHAR</td>\n",
       "      <td>75</td>\n",
       "      <td>0</td>\n",
       "      <td>Y</td>\n",
       "    </tr>\n",
       "    <tr>\n",
       "      <th>3</th>\n",
       "      <td>LAST_NAME</td>\n",
       "      <td>SYSIBM</td>\n",
       "      <td>VARCHAR</td>\n",
       "      <td>90</td>\n",
       "      <td>0</td>\n",
       "      <td>Y</td>\n",
       "    </tr>\n",
       "    <tr>\n",
       "      <th>4</th>\n",
       "      <td>LAST_NAME_MB</td>\n",
       "      <td>SYSIBM</td>\n",
       "      <td>VARCHAR</td>\n",
       "      <td>90</td>\n",
       "      <td>0</td>\n",
       "      <td>Y</td>\n",
       "    </tr>\n",
       "    <tr>\n",
       "      <th>5</th>\n",
       "      <td>DATE_HIRED</td>\n",
       "      <td>SYSIBM</td>\n",
       "      <td>TIMESTAMP</td>\n",
       "      <td>10</td>\n",
       "      <td>6</td>\n",
       "      <td>Y</td>\n",
       "    </tr>\n",
       "    <tr>\n",
       "      <th>6</th>\n",
       "      <td>TERMINATION_DATE</td>\n",
       "      <td>SYSIBM</td>\n",
       "      <td>TIMESTAMP</td>\n",
       "      <td>10</td>\n",
       "      <td>6</td>\n",
       "      <td>Y</td>\n",
       "    </tr>\n",
       "    <tr>\n",
       "      <th>7</th>\n",
       "      <td>TERMINATION_CODE</td>\n",
       "      <td>SYSIBM</td>\n",
       "      <td>INTEGER</td>\n",
       "      <td>4</td>\n",
       "      <td>0</td>\n",
       "      <td>Y</td>\n",
       "    </tr>\n",
       "    <tr>\n",
       "      <th>8</th>\n",
       "      <td>BIRTH_DATE</td>\n",
       "      <td>SYSIBM</td>\n",
       "      <td>TIMESTAMP</td>\n",
       "      <td>10</td>\n",
       "      <td>6</td>\n",
       "      <td>Y</td>\n",
       "    </tr>\n",
       "    <tr>\n",
       "      <th>9</th>\n",
       "      <td>GENDER_CODE</td>\n",
       "      <td>SYSIBM</td>\n",
       "      <td>SMALLINT</td>\n",
       "      <td>2</td>\n",
       "      <td>0</td>\n",
       "      <td>N</td>\n",
       "    </tr>\n",
       "    <tr>\n",
       "      <th>10</th>\n",
       "      <td>WORK_PHONE</td>\n",
       "      <td>SYSIBM</td>\n",
       "      <td>VARCHAR</td>\n",
       "      <td>90</td>\n",
       "      <td>0</td>\n",
       "      <td>Y</td>\n",
       "    </tr>\n",
       "    <tr>\n",
       "      <th>11</th>\n",
       "      <td>EXTENSION</td>\n",
       "      <td>SYSIBM</td>\n",
       "      <td>VARCHAR</td>\n",
       "      <td>30</td>\n",
       "      <td>0</td>\n",
       "      <td>Y</td>\n",
       "    </tr>\n",
       "    <tr>\n",
       "      <th>12</th>\n",
       "      <td>FAX</td>\n",
       "      <td>SYSIBM</td>\n",
       "      <td>VARCHAR</td>\n",
       "      <td>60</td>\n",
       "      <td>0</td>\n",
       "      <td>Y</td>\n",
       "    </tr>\n",
       "    <tr>\n",
       "      <th>13</th>\n",
       "      <td>EMAIL</td>\n",
       "      <td>SYSIBM</td>\n",
       "      <td>VARCHAR</td>\n",
       "      <td>120</td>\n",
       "      <td>0</td>\n",
       "      <td>Y</td>\n",
       "    </tr>\n",
       "  </tbody>\n",
       "</table>\n",
       "</div>"
      ],
      "text/plain": [
       "             COLNAME TYPESCHEMA   TYPENAME  LENGTH  SCALE NULLABLE\n",
       "0      EMPLOYEE_CODE   SYSIBM      INTEGER       4      0        N\n",
       "1         FIRST_NAME   SYSIBM      VARCHAR      75      0        N\n",
       "2      FIRST_NAME_MB   SYSIBM      VARCHAR      75      0        Y\n",
       "3          LAST_NAME   SYSIBM      VARCHAR      90      0        Y\n",
       "4       LAST_NAME_MB   SYSIBM      VARCHAR      90      0        Y\n",
       "5         DATE_HIRED   SYSIBM    TIMESTAMP      10      6        Y\n",
       "6   TERMINATION_DATE   SYSIBM    TIMESTAMP      10      6        Y\n",
       "7   TERMINATION_CODE   SYSIBM      INTEGER       4      0        Y\n",
       "8         BIRTH_DATE   SYSIBM    TIMESTAMP      10      6        Y\n",
       "9        GENDER_CODE   SYSIBM     SMALLINT       2      0        N\n",
       "10        WORK_PHONE   SYSIBM      VARCHAR      90      0        Y\n",
       "11         EXTENSION   SYSIBM      VARCHAR      30      0        Y\n",
       "12               FAX   SYSIBM      VARCHAR      60      0        Y\n",
       "13             EMAIL   SYSIBM      VARCHAR     120      0        Y"
      ]
     },
     "metadata": {},
     "output_type": "display_data"
    }
   ],
   "source": [
    "%sql -a describe table gosaleshr.employee"
   ]
  },
  {
   "cell_type": "code",
   "execution_count": 138,
   "metadata": {
    "scrolled": true
   },
   "outputs": [
    {
     "data": {
      "text/html": [
       "<div>\n",
       "<style scoped>\n",
       "    .dataframe tbody tr th:only-of-type {\n",
       "        vertical-align: middle;\n",
       "    }\n",
       "\n",
       "    .dataframe tbody tr th {\n",
       "        vertical-align: top;\n",
       "    }\n",
       "\n",
       "    .dataframe thead th {\n",
       "        text-align: right;\n",
       "    }\n",
       "</style>\n",
       "<table border=\"1\" class=\"dataframe\">\n",
       "  <thead>\n",
       "    <tr style=\"text-align: right;\">\n",
       "      <th></th>\n",
       "      <th>SEQ</th>\n",
       "      <th>FIRSTNAME</th>\n",
       "      <th>LASTNAME</th>\n",
       "    </tr>\n",
       "  </thead>\n",
       "  <tbody>\n",
       "    <tr>\n",
       "      <th>0</th>\n",
       "      <td>36</td>\n",
       "      <td>KIYOSHI</td>\n",
       "      <td>YAMAMOTO</td>\n",
       "    </tr>\n",
       "  </tbody>\n",
       "</table>\n",
       "</div>"
      ],
      "text/plain": [
       "   SEQ FIRSTNAME  LASTNAME\n",
       "0   36   KIYOSHI  YAMAMOTO"
      ]
     },
     "execution_count": 138,
     "metadata": {},
     "output_type": "execute_result"
    }
   ],
   "source": [
    "%sql select * from db2inst1.sub_name_list where seq = 36;"
   ]
  },
  {
   "cell_type": "markdown",
   "metadata": {},
   "source": [
    "##### Show sample data from the GSDB sample goshare.employee table.\n"
   ]
  },
  {
   "cell_type": "code",
   "execution_count": 16,
   "metadata": {},
   "outputs": [
    {
     "data": {
      "text/html": [
       "<div>\n",
       "<style scoped>\n",
       "    .dataframe tbody tr th:only-of-type {\n",
       "        vertical-align: middle;\n",
       "    }\n",
       "\n",
       "    .dataframe tbody tr th {\n",
       "        vertical-align: top;\n",
       "    }\n",
       "\n",
       "    .dataframe thead th {\n",
       "        text-align: right;\n",
       "    }\n",
       "</style>\n",
       "<table border=\"1\" class=\"dataframe\">\n",
       "  <thead>\n",
       "    <tr style=\"text-align: right;\">\n",
       "      <th></th>\n",
       "      <th>EMPLOYEE_CODE</th>\n",
       "      <th>FIRST_NAME</th>\n",
       "      <th>FIRST_NAME_MB</th>\n",
       "      <th>LAST_NAME</th>\n",
       "      <th>LAST_NAME_MB</th>\n",
       "      <th>DATE_HIRED</th>\n",
       "      <th>TERMINATION_DATE</th>\n",
       "      <th>TERMINATION_CODE</th>\n",
       "      <th>BIRTH_DATE</th>\n",
       "      <th>GENDER_CODE</th>\n",
       "      <th>WORK_PHONE</th>\n",
       "      <th>EXTENSION</th>\n",
       "      <th>FAX</th>\n",
       "      <th>EMAIL</th>\n",
       "    </tr>\n",
       "  </thead>\n",
       "  <tbody>\n",
       "    <tr>\n",
       "      <th>0</th>\n",
       "      <td>10004</td>\n",
       "      <td>Denis</td>\n",
       "      <td>Denis</td>\n",
       "      <td>SMITH</td>\n",
       "      <td>Pagé</td>\n",
       "      <td>2001-12-11</td>\n",
       "      <td>None</td>\n",
       "      <td>150</td>\n",
       "      <td>1960-11-02</td>\n",
       "      <td>0</td>\n",
       "      <td>+33 1 68 94 52 20</td>\n",
       "      <td>3995</td>\n",
       "      <td>+33 1 68 94 56 60</td>\n",
       "      <td>DPage@grtd123.com</td>\n",
       "    </tr>\n",
       "    <tr>\n",
       "      <th>1</th>\n",
       "      <td>10005</td>\n",
       "      <td>Élizabeth</td>\n",
       "      <td>Élizabeth</td>\n",
       "      <td>YAMAMOTO</td>\n",
       "      <td>Michel</td>\n",
       "      <td>2003-11-24</td>\n",
       "      <td>None</td>\n",
       "      <td>150</td>\n",
       "      <td>1974-03-02</td>\n",
       "      <td>1</td>\n",
       "      <td>+33 1 68 94 52 20</td>\n",
       "      <td>3994</td>\n",
       "      <td>+33 1 68 94 56 60</td>\n",
       "      <td>EMichel@grtd123.com</td>\n",
       "    </tr>\n",
       "    <tr>\n",
       "      <th>2</th>\n",
       "      <td>10006</td>\n",
       "      <td>Émile</td>\n",
       "      <td>Émile</td>\n",
       "      <td>MONTEVERDE</td>\n",
       "      <td>Clermont</td>\n",
       "      <td>2006-05-10</td>\n",
       "      <td>None</td>\n",
       "      <td>150</td>\n",
       "      <td>1980-07-12</td>\n",
       "      <td>0</td>\n",
       "      <td>+33 1 68 94 52 20</td>\n",
       "      <td>3993</td>\n",
       "      <td>+33 1 68 94 56 60</td>\n",
       "      <td>EClermont@grtd123.com</td>\n",
       "    </tr>\n",
       "    <tr>\n",
       "      <th>3</th>\n",
       "      <td>10007</td>\n",
       "      <td>Étienne</td>\n",
       "      <td>Étienne</td>\n",
       "      <td>JONES</td>\n",
       "      <td>Jauvin</td>\n",
       "      <td>2003-10-09</td>\n",
       "      <td>None</td>\n",
       "      <td>150</td>\n",
       "      <td>1973-02-16</td>\n",
       "      <td>0</td>\n",
       "      <td>+33 1 68 94 52 20</td>\n",
       "      <td>3992</td>\n",
       "      <td>+33 1 68 94 56 60</td>\n",
       "      <td>EJauvin@grtd123.com</td>\n",
       "    </tr>\n",
       "    <tr>\n",
       "      <th>4</th>\n",
       "      <td>10012</td>\n",
       "      <td>Elsbeth</td>\n",
       "      <td>Elsbeth</td>\n",
       "      <td>SCHWARTZ</td>\n",
       "      <td>Wiesinger</td>\n",
       "      <td>2005-03-22</td>\n",
       "      <td>None</td>\n",
       "      <td>150</td>\n",
       "      <td>1968-11-05</td>\n",
       "      <td>1</td>\n",
       "      <td>+(49) 40 663 1990</td>\n",
       "      <td>3987</td>\n",
       "      <td>+(49) 40 663 4571</td>\n",
       "      <td>EWiesinger@grtd123.com</td>\n",
       "    </tr>\n",
       "  </tbody>\n",
       "</table>\n",
       "</div>"
      ],
      "text/plain": [
       "   EMPLOYEE_CODE FIRST_NAME FIRST_NAME_MB   LAST_NAME LAST_NAME_MB DATE_HIRED  \\\n",
       "0          10004      Denis         Denis       SMITH         Pagé 2001-12-11   \n",
       "1          10005  Élizabeth     Élizabeth    YAMAMOTO       Michel 2003-11-24   \n",
       "2          10006      Émile         Émile  MONTEVERDE     Clermont 2006-05-10   \n",
       "3          10007    Étienne       Étienne       JONES       Jauvin 2003-10-09   \n",
       "4          10012    Elsbeth       Elsbeth    SCHWARTZ    Wiesinger 2005-03-22   \n",
       "\n",
       "  TERMINATION_DATE  TERMINATION_CODE BIRTH_DATE  GENDER_CODE  \\\n",
       "0             None               150 1960-11-02            0   \n",
       "1             None               150 1974-03-02            1   \n",
       "2             None               150 1980-07-12            0   \n",
       "3             None               150 1973-02-16            0   \n",
       "4             None               150 1968-11-05            1   \n",
       "\n",
       "          WORK_PHONE EXTENSION                FAX                   EMAIL  \n",
       "0  +33 1 68 94 52 20      3995  +33 1 68 94 56 60       DPage@grtd123.com  \n",
       "1  +33 1 68 94 52 20      3994  +33 1 68 94 56 60     EMichel@grtd123.com  \n",
       "2  +33 1 68 94 52 20      3993  +33 1 68 94 56 60   EClermont@grtd123.com  \n",
       "3  +33 1 68 94 52 20      3992  +33 1 68 94 56 60     EJauvin@grtd123.com  \n",
       "4  +(49) 40 663 1990      3987  +(49) 40 663 4571  EWiesinger@grtd123.com  "
      ]
     },
     "execution_count": 16,
     "metadata": {},
     "output_type": "execute_result"
    }
   ],
   "source": [
    "%sql select * from gosaleshr.employee e  fetch first 5 rows only"
   ]
  },
  {
   "cell_type": "markdown",
   "metadata": {},
   "source": [
    "##### Tryout Last Name substitution using the built-in <code>get_hash_value</code> procedure. \n",
    "Before building the mask, I wanted to try out the built-in hash function and see the value it provides and use it in picking a name to substitute.  By using the same last_name value to be masked in the hash procedure you always get the same number for the same input string.  I use this number to select a row from sub_name_list table based on the SEQ column.  There are 42 rows in the table, so I tell the hash function to always pick anumber between 1 and 42.  \n"
   ]
  },
  {
   "cell_type": "code",
   "execution_count": 148,
   "metadata": {},
   "outputs": [
    {
     "data": {
      "text/html": [
       "<div>\n",
       "<style scoped>\n",
       "    .dataframe tbody tr th:only-of-type {\n",
       "        vertical-align: middle;\n",
       "    }\n",
       "\n",
       "    .dataframe tbody tr th {\n",
       "        vertical-align: top;\n",
       "    }\n",
       "\n",
       "    .dataframe thead th {\n",
       "        text-align: right;\n",
       "    }\n",
       "</style>\n",
       "<table border=\"1\" class=\"dataframe\">\n",
       "  <thead>\n",
       "    <tr style=\"text-align: right;\">\n",
       "      <th></th>\n",
       "      <th>LAST_NAME</th>\n",
       "      <th>LASTNAME</th>\n",
       "      <th>3</th>\n",
       "      <th>BIRTH_DATE</th>\n",
       "    </tr>\n",
       "  </thead>\n",
       "  <tbody>\n",
       "    <tr>\n",
       "      <th>0</th>\n",
       "      <td>Pagé</td>\n",
       "      <td>SMITH</td>\n",
       "      <td>28</td>\n",
       "      <td>1960-11-02</td>\n",
       "    </tr>\n",
       "    <tr>\n",
       "      <th>1</th>\n",
       "      <td>Michel</td>\n",
       "      <td>YAMAMOTO</td>\n",
       "      <td>36</td>\n",
       "      <td>1974-03-02</td>\n",
       "    </tr>\n",
       "    <tr>\n",
       "      <th>2</th>\n",
       "      <td>Clermont</td>\n",
       "      <td>MONTEVERDE</td>\n",
       "      <td>38</td>\n",
       "      <td>1980-07-12</td>\n",
       "    </tr>\n",
       "    <tr>\n",
       "      <th>3</th>\n",
       "      <td>Jauvin</td>\n",
       "      <td>JONES</td>\n",
       "      <td>19</td>\n",
       "      <td>1973-02-16</td>\n",
       "    </tr>\n",
       "    <tr>\n",
       "      <th>4</th>\n",
       "      <td>Wiesinger</td>\n",
       "      <td>SCHWARTZ</td>\n",
       "      <td>39</td>\n",
       "      <td>1968-11-05</td>\n",
       "    </tr>\n",
       "  </tbody>\n",
       "</table>\n",
       "</div>"
      ],
      "text/plain": [
       "   LAST_NAME    LASTNAME   3 BIRTH_DATE\n",
       "0       Pagé       SMITH  28 1960-11-02\n",
       "1     Michel    YAMAMOTO  36 1974-03-02\n",
       "2   Clermont  MONTEVERDE  38 1980-07-12\n",
       "3     Jauvin       JONES  19 1973-02-16\n",
       "4  Wiesinger    SCHWARTZ  39 1968-11-05"
      ]
     },
     "execution_count": 148,
     "metadata": {},
     "output_type": "execute_result"
    }
   ],
   "source": [
    "%%sql \n",
    "select last_name \n",
    "     , (select lastname from db2inst1.sub_name_list s\n",
    "         where seq = dbms_utility.get_hash_value(e.last_name, 1,42))\n",
    "     , (select dbms_utility.get_hash_value(e.last_name, 1,42) from db2inst1.sub_name_list s2\n",
    "          where seq = dbms_utility.get_hash_value(e.last_name, 1,42))\n",
    "     , birth_date \n",
    "  from gosaleshr.employee e\n",
    "  fetch first 5 rows only"
   ]
  },
  {
   "cell_type": "markdown",
   "metadata": {},
   "source": [
    "### Create Roles and grant authroities"
   ]
  },
  {
   "cell_type": "markdown",
   "metadata": {},
   "source": [
    " Create the <code>EXTRACT_FOR_TESTDB</code> role. "
   ]
  },
  {
   "cell_type": "code",
   "execution_count": 11,
   "metadata": {},
   "outputs": [
    {
     "name": "stdout",
     "output_type": "stream",
     "text": [
      "Command completed.\n"
     ]
    }
   ],
   "source": [
    "%sql create role EXTRACT_FOR_TESTDB"
   ]
  },
  {
   "cell_type": "markdown",
   "metadata": {},
   "source": [
    "Add the user testdata to the role."
   ]
  },
  {
   "cell_type": "code",
   "execution_count": 19,
   "metadata": {},
   "outputs": [
    {
     "name": "stdout",
     "output_type": "stream",
     "text": [
      "Command completed.\n"
     ]
    }
   ],
   "source": [
    "%sql grant role EXTRACT_FOR_TESTDB to user testdata"
   ]
  },
  {
   "cell_type": "markdown",
   "metadata": {},
   "source": [
    "Grant the authority to select data to the EXTRACT_FOR_TESTDB so any user in it including testdata can select the data."
   ]
  },
  {
   "cell_type": "code",
   "execution_count": 13,
   "metadata": {},
   "outputs": [
    {
     "name": "stdout",
     "output_type": "stream",
     "text": [
      "Command completed.\n"
     ]
    }
   ],
   "source": [
    "%%sql \n",
    "grant select on table gosaleshr.employee to role EXTRACT_FOR_TESTDB;\n",
    "grant select on table GOSALESCT.CUST_CRDT_CARD to role EXTRACT_FOR_TESTDB;"
   ]
  },
  {
   "cell_type": "markdown",
   "metadata": {},
   "source": [
    "Create some other roles tht will be able to see any data in the tables and do the appropriate grants.  "
   ]
  },
  {
   "cell_type": "code",
   "execution_count": 34,
   "metadata": {},
   "outputs": [
    {
     "name": "stdout",
     "output_type": "stream",
     "text": [
      "Command completed.\n"
     ]
    }
   ],
   "source": [
    "%sql create role SUPER_USER"
   ]
  },
  {
   "cell_type": "code",
   "execution_count": 38,
   "metadata": {},
   "outputs": [
    {
     "name": "stdout",
     "output_type": "stream",
     "text": [
      "Command completed.\n"
     ]
    }
   ],
   "source": [
    "%sql create role FAIR_USER"
   ]
  },
  {
   "cell_type": "code",
   "execution_count": 35,
   "metadata": {},
   "outputs": [
    {
     "name": "stdout",
     "output_type": "stream",
     "text": [
      "Command completed.\n"
     ]
    }
   ],
   "source": [
    "%sql grant role SUPER_USER to user bob"
   ]
  },
  {
   "cell_type": "code",
   "execution_count": 36,
   "metadata": {},
   "outputs": [
    {
     "name": "stdout",
     "output_type": "stream",
     "text": [
      "Command completed.\n"
     ]
    }
   ],
   "source": [
    "%%sql \n",
    "grant select, update, delete on table gosaleshr.employee to role SUPER_USER;\n",
    "grant select, update, delete on table GOSALESCT.CUST_CRDT_CARD to role SUPER_USER;"
   ]
  },
  {
   "cell_type": "markdown",
   "metadata": {},
   "source": [
    "##### Create a  <code>mask</code> to change the value of last name when anyone int the test data extraction role queries the table.\n",
    "See notes about the get_hash_value built-in procedure above."
   ]
  },
  {
   "cell_type": "code",
   "execution_count": null,
   "metadata": {},
   "outputs": [],
   "source": [
    "%sql DROP MASK LAST_NAME;\n",
    "%sql DROP MASK BIRTYDAY;"
   ]
  },
  {
   "cell_type": "code",
   "execution_count": 92,
   "metadata": {},
   "outputs": [
    {
     "name": "stdout",
     "output_type": "stream",
     "text": [
      "Command completed.\n"
     ]
    }
   ],
   "source": [
    "%%sql\n",
    "CREATE MASK LAST_NAME ON GOSALESHR.EMPLOYEE FOR\n",
    "   COLUMN LAST_NAME_MB RETURN\n",
    "          CASE WHEN \n",
    "               VERIFY_ROLE_FOR_USER(SESSION_USER,'EXTRACT_FOR_TESTDB') = 1 \n",
    "          THEN (select lastname from db2inst1.sub_name_list \n",
    "                      where seq = dbms_utility.get_hash_value(LAST_NAME_MB, 1,42)\n",
    "               )\n",
    "          ELSE LAST_NAME_MB\n",
    "          END\n",
    "ENABLE;"
   ]
  },
  {
   "cell_type": "markdown",
   "metadata": {},
   "source": [
    "##### Create a  <code>mask</code> to change the value of birth_date when anyone int the test data extraction role queries the table.\n",
    "This mask changes the birth_data value in the query results to add two days to the day portion of the date, subtract one year from the year and add one to the month. "
   ]
  },
  {
   "cell_type": "code",
   "execution_count": 93,
   "metadata": {},
   "outputs": [
    {
     "name": "stdout",
     "output_type": "stream",
     "text": [
      "Command completed.\n"
     ]
    }
   ],
   "source": [
    "%%sql\n",
    "CREATE MASK BIRTHDAY ON GOSALESHR.EMPLOYEE FOR\n",
    "   COLUMN BIRTH_DATE RETURN\n",
    "          CASE WHEN \n",
    "               VERIFY_ROLE_FOR_USER(SESSION_USER,'EXTRACT_FOR_TESTDB') = 1 \n",
    "          THEN BIRTH_DATE + 2 DAYS - 1 YEARS + 1 MONTH\n",
    "          ELSE BIRTH_DATE\n",
    "          END\n",
    "ENABLE;"
   ]
  },
  {
   "cell_type": "markdown",
   "metadata": {},
   "source": [
    "##### Make the masks active for the employee table.\n",
    "Until you active the masks they will not be invoked.  "
   ]
  },
  {
   "cell_type": "code",
   "execution_count": 94,
   "metadata": {},
   "outputs": [
    {
     "name": "stdout",
     "output_type": "stream",
     "text": [
      "Command completed.\n"
     ]
    }
   ],
   "source": [
    "%sql ALTER TABLE GOSALESHR.EMPLOYEE ACTIVATE COLUMN ACCESS CONTROL;"
   ]
  },
  {
   "cell_type": "markdown",
   "metadata": {},
   "source": [
    "##### Alternate  <code>mask</code> for the Last_name column.\n",
    "If you wanted everyone who wasn't explicitly allowed to see the last name to get a masked value you would code the mask something like this:"
   ]
  },
  {
   "cell_type": "code",
   "execution_count": 10,
   "metadata": {},
   "outputs": [
    {
     "name": "stdout",
     "output_type": "stream",
     "text": [
      "Command completed.\n"
     ]
    }
   ],
   "source": [
    "%%sql\n",
    "CREATE MASK LAST_NAME ON GOSALESHR.EMPLOYEE FOR\n",
    "   COLUMN LAST_NAME_MB RETURN\n",
    "          CASE WHEN \n",
    "               VERIFY_ROLE_FOR_USER(SESSION_USER,'SUPER_USER') = 1 OR\n",
    "               VERIFY_ROLE_FOR_USER(SESSION_USER,'FAIR_USER') = 1 \n",
    "          THEN LAST_NAME_MB\n",
    "               ELSE (select lastname from db2inst1.sub_name_list s\n",
    "                      where seq = dbms_utility.get_hash_value(LAST_NAME_MB, 1,42)  \n",
    "                    )\n",
    "          END\n",
    "ENABLE;"
   ]
  },
  {
   "cell_type": "markdown",
   "metadata": {},
   "source": [
    "##### Use a  <code>User Defined Function</code> to obfuscate last_name.\n",
    "Create a UDF and call it in the mask instead of coding substitution logic in the mask itself.  In this case, this is not a good pracice. To get the function to work in the mask I had to declare it \"DETERMINISTIC\",  but it is not deterministic according to the strict definition.  If the state of the sub_name_list table changed then the return value could be different.  "
   ]
  },
  {
   "cell_type": "code",
   "execution_count": 152,
   "metadata": {},
   "outputs": [
    {
     "name": "stdout",
     "output_type": "stream",
     "text": [
      "Command completed.\n"
     ]
    }
   ],
   "source": [
    "%%sql -d\n",
    "CREATE OR REPLACE FUNCTION SUB_LAST_NAME(LN VARCHAR(90))\n",
    "      RETURNS VARCHAR(90)\n",
    "      READS SQL DATA  NO EXTERNAL ACTION DETERMINISTIC SECURED\n",
    "  BEGIN\n",
    "    DECLARE SUBNAME VARCHAR(90);\n",
    "    DECLARE EXIT HANDLER FOR SQLEXCEPTION RETURN(FALSE);\n",
    "    SET SUBNAME = (select lastname from db2inst1.sub_name_list s\n",
    "                    where seq = dbms_utility.get_hash_value(LN, 1,42));\n",
    "    SET SUBNAME = CASE WHEN SUBNAME IS NOT NULL THEN SUBNAME ELSE 'DB2DEAN' END;\n",
    "    RETURN(SUBNAME);\n",
    "END"
   ]
  },
  {
   "cell_type": "code",
   "execution_count": 153,
   "metadata": {},
   "outputs": [
    {
     "name": "stdout",
     "output_type": "stream",
     "text": [
      "Command completed.\n"
     ]
    }
   ],
   "source": [
    "%%sql\n",
    "CREATE MASK LAST_NAME ON GOSALESHR.EMPLOYEE FOR\n",
    "   COLUMN LAST_NAME_MB_MB RETURN\n",
    "          CASE WHEN \n",
    "               VERIFY_ROLE_FOR_USER(SESSION_USER,'SUPER_USER') = 1 OR\n",
    "               VERIFY_ROLE_FOR_USER(SESSION_USER,'FAIR_USER') = 1 \n",
    "          THEN LAST_NAME_MB\n",
    "          ELSE sub_last_name(LAST_NAME_MB)\n",
    "          END\n",
    "ENABLE;\n"
   ]
  },
  {
   "cell_type": "code",
   "execution_count": null,
   "metadata": {},
   "outputs": [],
   "source": [
    "%sql drop mask last_name;\n",
    "%sql DROP FUNCTION SUB_LAST_NAME"
   ]
  },
  {
   "cell_type": "code",
   "execution_count": null,
   "metadata": {},
   "outputs": [],
   "source": [
    "%sql select db2inst1.sub_last_name('DB2DEAN') from sysibm.sysdummy1"
   ]
  },
  {
   "cell_type": "markdown",
   "metadata": {},
   "source": [
    "### Super user, Bob, selects the employee table and sees the unmasked Last Name MB and birthday"
   ]
  },
  {
   "cell_type": "code",
   "execution_count": 95,
   "metadata": {},
   "outputs": [
    {
     "name": "stdout",
     "output_type": "stream",
     "text": [
      "Connection closed.\n",
      "Connection successful.\n"
     ]
    },
    {
     "data": {
      "text/html": [
       "<div>\n",
       "<style scoped>\n",
       "    .dataframe tbody tr th:only-of-type {\n",
       "        vertical-align: middle;\n",
       "    }\n",
       "\n",
       "    .dataframe tbody tr th {\n",
       "        vertical-align: top;\n",
       "    }\n",
       "\n",
       "    .dataframe thead th {\n",
       "        text-align: right;\n",
       "    }\n",
       "</style>\n",
       "<table border=\"1\" class=\"dataframe\">\n",
       "  <thead>\n",
       "    <tr style=\"text-align: right;\">\n",
       "      <th></th>\n",
       "      <th>LAST_NAME</th>\n",
       "      <th>LAST_NAME_MB</th>\n",
       "      <th>BIRTH_DATE</th>\n",
       "    </tr>\n",
       "  </thead>\n",
       "  <tbody>\n",
       "    <tr>\n",
       "      <th>0</th>\n",
       "      <td>Pagé</td>\n",
       "      <td>Pagé</td>\n",
       "      <td>1960-11-02</td>\n",
       "    </tr>\n",
       "    <tr>\n",
       "      <th>1</th>\n",
       "      <td>Michel</td>\n",
       "      <td>Michel</td>\n",
       "      <td>1974-03-02</td>\n",
       "    </tr>\n",
       "    <tr>\n",
       "      <th>2</th>\n",
       "      <td>Clermont</td>\n",
       "      <td>Clermont</td>\n",
       "      <td>1980-07-12</td>\n",
       "    </tr>\n",
       "    <tr>\n",
       "      <th>3</th>\n",
       "      <td>Jauvin</td>\n",
       "      <td>Jauvin</td>\n",
       "      <td>1973-02-16</td>\n",
       "    </tr>\n",
       "    <tr>\n",
       "      <th>4</th>\n",
       "      <td>Wiesinger</td>\n",
       "      <td>Wiesinger</td>\n",
       "      <td>1968-11-05</td>\n",
       "    </tr>\n",
       "  </tbody>\n",
       "</table>\n",
       "</div>"
      ],
      "text/plain": [
       "   LAST_NAME LAST_NAME_MB BIRTH_DATE\n",
       "0       Pagé         Pagé 1960-11-02\n",
       "1     Michel       Michel 1974-03-02\n",
       "2   Clermont     Clermont 1980-07-12\n",
       "3     Jauvin       Jauvin 1973-02-16\n",
       "4  Wiesinger    Wiesinger 1968-11-05"
      ]
     },
     "execution_count": 95,
     "metadata": {},
     "output_type": "execute_result"
    }
   ],
   "source": [
    "%sql CONNECT RESET\n",
    "%sql CONNECT TO sample USER bob USING password HOST localhost PORT 50000;\n",
    "%sql select LAST_NAME, LAST_NAME_MB, BIRTH_DATE from gosaleshr.employee   fetch first 5 rows only"
   ]
  },
  {
   "cell_type": "markdown",
   "metadata": {},
   "source": [
    "### Test data user, testdata, selects the employee table and sees the maksed Last Name MB and birthday"
   ]
  },
  {
   "cell_type": "code",
   "execution_count": 96,
   "metadata": {},
   "outputs": [
    {
     "name": "stdout",
     "output_type": "stream",
     "text": [
      "Connection closed.\n",
      "Connection successful.\n"
     ]
    },
    {
     "data": {
      "text/html": [
       "<div>\n",
       "<style scoped>\n",
       "    .dataframe tbody tr th:only-of-type {\n",
       "        vertical-align: middle;\n",
       "    }\n",
       "\n",
       "    .dataframe tbody tr th {\n",
       "        vertical-align: top;\n",
       "    }\n",
       "\n",
       "    .dataframe thead th {\n",
       "        text-align: right;\n",
       "    }\n",
       "</style>\n",
       "<table border=\"1\" class=\"dataframe\">\n",
       "  <thead>\n",
       "    <tr style=\"text-align: right;\">\n",
       "      <th></th>\n",
       "      <th>LAST_NAME</th>\n",
       "      <th>LAST_NAME_MB</th>\n",
       "      <th>BIRTH_DATE</th>\n",
       "    </tr>\n",
       "  </thead>\n",
       "  <tbody>\n",
       "    <tr>\n",
       "      <th>0</th>\n",
       "      <td>Pagé</td>\n",
       "      <td>SMITH</td>\n",
       "      <td>1959-12-04</td>\n",
       "    </tr>\n",
       "    <tr>\n",
       "      <th>1</th>\n",
       "      <td>Michel</td>\n",
       "      <td>YAMAMOTO</td>\n",
       "      <td>1973-04-04</td>\n",
       "    </tr>\n",
       "    <tr>\n",
       "      <th>2</th>\n",
       "      <td>Clermont</td>\n",
       "      <td>MONTEVERDE</td>\n",
       "      <td>1979-08-14</td>\n",
       "    </tr>\n",
       "    <tr>\n",
       "      <th>3</th>\n",
       "      <td>Jauvin</td>\n",
       "      <td>JONES</td>\n",
       "      <td>1972-03-18</td>\n",
       "    </tr>\n",
       "    <tr>\n",
       "      <th>4</th>\n",
       "      <td>Wiesinger</td>\n",
       "      <td>SCHWARTZ</td>\n",
       "      <td>1967-12-07</td>\n",
       "    </tr>\n",
       "  </tbody>\n",
       "</table>\n",
       "</div>"
      ],
      "text/plain": [
       "   LAST_NAME LAST_NAME_MB BIRTH_DATE\n",
       "0       Pagé        SMITH 1959-12-04\n",
       "1     Michel     YAMAMOTO 1973-04-04\n",
       "2   Clermont   MONTEVERDE 1979-08-14\n",
       "3     Jauvin        JONES 1972-03-18\n",
       "4  Wiesinger     SCHWARTZ 1967-12-07"
      ]
     },
     "execution_count": 96,
     "metadata": {},
     "output_type": "execute_result"
    }
   ],
   "source": [
    "%sql CONNECT RESET\n",
    "%sql CONNECT TO sample USER testdata USING password HOST localhost PORT 50000;\n",
    "%sql select LAST_NAME, LAST_NAME_MB, BIRTH_DATE from gosaleshr.employee   fetch first 5 rows only"
   ]
  },
  {
   "cell_type": "code",
   "execution_count": 19,
   "metadata": {},
   "outputs": [
    {
     "data": {
      "text/html": [
       "<div>\n",
       "<style scoped>\n",
       "    .dataframe tbody tr th:only-of-type {\n",
       "        vertical-align: middle;\n",
       "    }\n",
       "\n",
       "    .dataframe tbody tr th {\n",
       "        vertical-align: top;\n",
       "    }\n",
       "\n",
       "    .dataframe thead th {\n",
       "        text-align: right;\n",
       "    }\n",
       "</style>\n",
       "<table border=\"1\" class=\"dataframe\">\n",
       "  <thead>\n",
       "    <tr style=\"text-align: right;\">\n",
       "      <th></th>\n",
       "      <th>BIRTH_DATE</th>\n",
       "      <th>2</th>\n",
       "    </tr>\n",
       "  </thead>\n",
       "  <tbody>\n",
       "    <tr>\n",
       "      <th>0</th>\n",
       "      <td>1960-11-02</td>\n",
       "      <td>1959-11-04</td>\n",
       "    </tr>\n",
       "    <tr>\n",
       "      <th>1</th>\n",
       "      <td>1974-03-02</td>\n",
       "      <td>1973-03-04</td>\n",
       "    </tr>\n",
       "    <tr>\n",
       "      <th>2</th>\n",
       "      <td>1980-07-12</td>\n",
       "      <td>1979-07-14</td>\n",
       "    </tr>\n",
       "    <tr>\n",
       "      <th>3</th>\n",
       "      <td>1973-02-16</td>\n",
       "      <td>1972-02-18</td>\n",
       "    </tr>\n",
       "    <tr>\n",
       "      <th>4</th>\n",
       "      <td>1968-11-05</td>\n",
       "      <td>1967-11-07</td>\n",
       "    </tr>\n",
       "  </tbody>\n",
       "</table>\n",
       "</div>"
      ],
      "text/plain": [
       "  BIRTH_DATE          2\n",
       "0 1960-11-02 1959-11-04\n",
       "1 1974-03-02 1973-03-04\n",
       "2 1980-07-12 1979-07-14\n",
       "3 1973-02-16 1972-02-18\n",
       "4 1968-11-05 1967-11-07"
      ]
     },
     "execution_count": 19,
     "metadata": {},
     "output_type": "execute_result"
    }
   ],
   "source": [
    "%sql select birth_date, birth_date + 2 DAYS - 1 YEARS from gosaleshr.employee   fetch first 5 rows only"
   ]
  },
  {
   "cell_type": "code",
   "execution_count": 41,
   "metadata": {},
   "outputs": [
    {
     "data": {
      "text/html": [
       "<div>\n",
       "<style scoped>\n",
       "    .dataframe tbody tr th:only-of-type {\n",
       "        vertical-align: middle;\n",
       "    }\n",
       "\n",
       "    .dataframe tbody tr th {\n",
       "        vertical-align: top;\n",
       "    }\n",
       "\n",
       "    .dataframe thead th {\n",
       "        text-align: right;\n",
       "    }\n",
       "</style>\n",
       "<table border=\"1\" class=\"dataframe\">\n",
       "  <thead>\n",
       "    <tr style=\"text-align: right;\">\n",
       "      <th></th>\n",
       "      <th>COLNAME</th>\n",
       "      <th>TYPESCHEMA</th>\n",
       "      <th>TYPENAME</th>\n",
       "      <th>LENGTH</th>\n",
       "      <th>SCALE</th>\n",
       "      <th>NULLABLE</th>\n",
       "    </tr>\n",
       "  </thead>\n",
       "  <tbody>\n",
       "    <tr>\n",
       "      <th>0</th>\n",
       "      <td>CUST_CC_ID</td>\n",
       "      <td>SYSIBM</td>\n",
       "      <td>INTEGER</td>\n",
       "      <td>4</td>\n",
       "      <td>0</td>\n",
       "      <td>N</td>\n",
       "    </tr>\n",
       "    <tr>\n",
       "      <th>1</th>\n",
       "      <td>CUST_CODE</td>\n",
       "      <td>SYSIBM</td>\n",
       "      <td>INTEGER</td>\n",
       "      <td>4</td>\n",
       "      <td>0</td>\n",
       "      <td>Y</td>\n",
       "    </tr>\n",
       "    <tr>\n",
       "      <th>2</th>\n",
       "      <td>CRDT_METHOD_CODE</td>\n",
       "      <td>SYSIBM</td>\n",
       "      <td>INTEGER</td>\n",
       "      <td>4</td>\n",
       "      <td>0</td>\n",
       "      <td>Y</td>\n",
       "    </tr>\n",
       "    <tr>\n",
       "      <th>3</th>\n",
       "      <td>CUST_CC_NUMBER</td>\n",
       "      <td>SYSIBM</td>\n",
       "      <td>CHARACTER</td>\n",
       "      <td>57</td>\n",
       "      <td>0</td>\n",
       "      <td>Y</td>\n",
       "    </tr>\n",
       "    <tr>\n",
       "      <th>4</th>\n",
       "      <td>CUST_CC_SERV_CODE</td>\n",
       "      <td>SYSIBM</td>\n",
       "      <td>INTEGER</td>\n",
       "      <td>4</td>\n",
       "      <td>0</td>\n",
       "      <td>Y</td>\n",
       "    </tr>\n",
       "    <tr>\n",
       "      <th>5</th>\n",
       "      <td>CUST_CC_EXP_DATE</td>\n",
       "      <td>SYSIBM</td>\n",
       "      <td>TIMESTAMP</td>\n",
       "      <td>10</td>\n",
       "      <td>6</td>\n",
       "      <td>Y</td>\n",
       "    </tr>\n",
       "  </tbody>\n",
       "</table>\n",
       "</div>"
      ],
      "text/plain": [
       "             COLNAME TYPESCHEMA   TYPENAME  LENGTH  SCALE NULLABLE\n",
       "0         CUST_CC_ID   SYSIBM      INTEGER       4      0        N\n",
       "1          CUST_CODE   SYSIBM      INTEGER       4      0        Y\n",
       "2   CRDT_METHOD_CODE   SYSIBM      INTEGER       4      0        Y\n",
       "3     CUST_CC_NUMBER   SYSIBM    CHARACTER      57      0        Y\n",
       "4  CUST_CC_SERV_CODE   SYSIBM      INTEGER       4      0        Y\n",
       "5   CUST_CC_EXP_DATE   SYSIBM    TIMESTAMP      10      6        Y"
      ]
     },
     "metadata": {},
     "output_type": "display_data"
    }
   ],
   "source": [
    "%sql -a describe table GOSALESCT.CUST_CRDT_CARD"
   ]
  },
  {
   "cell_type": "code",
   "execution_count": 40,
   "metadata": {},
   "outputs": [
    {
     "data": {
      "text/html": [
       "<div>\n",
       "<style scoped>\n",
       "    .dataframe tbody tr th:only-of-type {\n",
       "        vertical-align: middle;\n",
       "    }\n",
       "\n",
       "    .dataframe tbody tr th {\n",
       "        vertical-align: top;\n",
       "    }\n",
       "\n",
       "    .dataframe thead th {\n",
       "        text-align: right;\n",
       "    }\n",
       "</style>\n",
       "<table border=\"1\" class=\"dataframe\">\n",
       "  <thead>\n",
       "    <tr style=\"text-align: right;\">\n",
       "      <th></th>\n",
       "      <th>CUST_CC_ID</th>\n",
       "      <th>CUST_CODE</th>\n",
       "      <th>CRDT_METHOD_CODE</th>\n",
       "      <th>CUST_CC_NUMBER</th>\n",
       "      <th>CUST_CC_SERV_CODE</th>\n",
       "      <th>CUST_CC_EXP_DATE</th>\n",
       "    </tr>\n",
       "  </thead>\n",
       "  <tbody>\n",
       "    <tr>\n",
       "      <th>0</th>\n",
       "      <td>10000</td>\n",
       "      <td>131072</td>\n",
       "      <td>29</td>\n",
       "      <td>5298765461884536                              ...</td>\n",
       "      <td>3100</td>\n",
       "      <td>2013-01-01</td>\n",
       "    </tr>\n",
       "    <tr>\n",
       "      <th>1</th>\n",
       "      <td>10001</td>\n",
       "      <td>131073</td>\n",
       "      <td>28</td>\n",
       "      <td>5598765426519067                              ...</td>\n",
       "      <td>3627</td>\n",
       "      <td>2011-08-01</td>\n",
       "    </tr>\n",
       "    <tr>\n",
       "      <th>2</th>\n",
       "      <td>10002</td>\n",
       "      <td>131075</td>\n",
       "      <td>29</td>\n",
       "      <td>5498765452595818                              ...</td>\n",
       "      <td>8662</td>\n",
       "      <td>2013-03-01</td>\n",
       "    </tr>\n",
       "    <tr>\n",
       "      <th>3</th>\n",
       "      <td>10003</td>\n",
       "      <td>131076</td>\n",
       "      <td>25</td>\n",
       "      <td>4998765444282028                              ...</td>\n",
       "      <td>636</td>\n",
       "      <td>2009-08-01</td>\n",
       "    </tr>\n",
       "    <tr>\n",
       "      <th>4</th>\n",
       "      <td>10004</td>\n",
       "      <td>131077</td>\n",
       "      <td>29</td>\n",
       "      <td>9998765460293064                              ...</td>\n",
       "      <td>784</td>\n",
       "      <td>2012-06-01</td>\n",
       "    </tr>\n",
       "  </tbody>\n",
       "</table>\n",
       "</div>"
      ],
      "text/plain": [
       "   CUST_CC_ID  CUST_CODE  CRDT_METHOD_CODE  \\\n",
       "0       10000     131072                29   \n",
       "1       10001     131073                28   \n",
       "2       10002     131075                29   \n",
       "3       10003     131076                25   \n",
       "4       10004     131077                29   \n",
       "\n",
       "                                      CUST_CC_NUMBER  CUST_CC_SERV_CODE  \\\n",
       "0  5298765461884536                              ...               3100   \n",
       "1  5598765426519067                              ...               3627   \n",
       "2  5498765452595818                              ...               8662   \n",
       "3  4998765444282028                              ...                636   \n",
       "4  9998765460293064                              ...                784   \n",
       "\n",
       "  CUST_CC_EXP_DATE  \n",
       "0       2013-01-01  \n",
       "1       2011-08-01  \n",
       "2       2013-03-01  \n",
       "3       2009-08-01  \n",
       "4       2012-06-01  "
      ]
     },
     "execution_count": 40,
     "metadata": {},
     "output_type": "execute_result"
    }
   ],
   "source": [
    "%sql select * from GOSALESCT.CUST_CRDT_CARD fetch first 5 rows only;"
   ]
  },
  {
   "cell_type": "markdown",
   "metadata": {},
   "source": [
    "##### Create a  <code>mask</code> to change the value of credit card number when anyone in the test data extraction role queries the table.\n",
    "In the case we create a function to do the work and call it in the mask.  The logic is that we will add 4 to the ninth digit of the credit card number.  If that addition makes the number two digits, subtract 9 from it.  "
   ]
  },
  {
   "cell_type": "code",
   "execution_count": 61,
   "metadata": {},
   "outputs": [
    {
     "name": "stdout",
     "output_type": "stream",
     "text": [
      "Command completed.\n"
     ]
    }
   ],
   "source": [
    "%%sql -d\n",
    "CREATE OR REPLACE FUNCTION MASK_CARD(IN_CARD CHAR(57))\n",
    "      RETURNS CHAR(57)\n",
    "      CONTAINS SQL NO EXTERNAL ACTION DETERMINISTIC SECURED\n",
    "  BEGIN\n",
    "    DECLARE OUT_CARD CHAR(57);\n",
    "    DECLARE CD CHAR(1);\n",
    "    DECLARE CI INTEGER;\n",
    "    DECLARE EXIT HANDLER FOR SQLEXCEPTION RETURN(FALSE);\n",
    "    SET CD = SUBSTR(IN_CARD,9,1);\n",
    "    SET CI = INT(CD);\n",
    "    SET CI = CI + 4;\n",
    "    IF CI > 9 THEN SET CI=CI-9; END IF;\n",
    "    SET CD = CHAR(CI);\n",
    "    SET OUT_CARD = SUBSTR(IN_CARD,1,8) || CD || SUBSTR(IN_CARD,10,48) ;\n",
    "    RETURN(OUT_CARD);\n",
    "END\n"
   ]
  },
  {
   "cell_type": "code",
   "execution_count": 63,
   "metadata": {},
   "outputs": [
    {
     "name": "stdout",
     "output_type": "stream",
     "text": [
      "Command completed.\n"
     ]
    }
   ],
   "source": [
    "%%sql\n",
    "CREATE MASK CRED_CARD ON GOSALESCT.CUST_CRDT_CARD FOR\n",
    "   COLUMN CUST_CC_NUMBER RETURN\n",
    "          CASE WHEN \n",
    "               VERIFY_ROLE_FOR_USER(SESSION_USER,'EXTRACT_FOR_TESTDB') = 1 \n",
    "          THEN MASK_CARD(CUST_CC_NUMBER)\n",
    "          ELSE CUST_CC_NUMBER\n",
    "          END\n",
    "ENABLE;"
   ]
  },
  {
   "cell_type": "code",
   "execution_count": 70,
   "metadata": {},
   "outputs": [
    {
     "name": "stdout",
     "output_type": "stream",
     "text": [
      "Command completed.\n"
     ]
    }
   ],
   "source": [
    "%sql ALTER TABLE GOSALESCT.CUST_CRDT_CARD ACTIVATE COLUMN ACCESS CONTROL;"
   ]
  },
  {
   "cell_type": "markdown",
   "metadata": {},
   "source": [
    "### Testdata tries to call the function explicitly to mask the credit card number\n",
    "He doesn't have authority to do that,but notice that when the mask calls the function that authority isn't needed"
   ]
  },
  {
   "cell_type": "code",
   "execution_count": 8,
   "metadata": {},
   "outputs": [
    {
     "name": "stdout",
     "output_type": "stream",
     "text": [
      "Connection closed.\n",
      "Connection successful.\n"
     ]
    },
    {
     "data": {
      "text/html": [
       "<p><p style=\"border:2px; border-style:solid; border-color:#FF0000; background-color:#ffe6e6; padding: 1em;\">SQL0551N  The statement failed because the authorization ID does not have the required authorization or privilege to perform the operation.  Authorization ID: \"TESTDATA\".  Operation: \"EXECUTE\". Object: \"DB2INST1.MASK_CARD\".  SQLSTATE=42501 SQLCODE=-551</p>"
      ],
      "text/plain": [
       "<IPython.core.display.HTML object>"
      ]
     },
     "metadata": {},
     "output_type": "display_data"
    },
    {
     "name": "stdout",
     "output_type": "stream",
     "text": [
      "Command completed.\n"
     ]
    }
   ],
   "source": [
    "%sql CONNECT RESET\n",
    "%sql CONNECT TO sample USER testdata USING password HOST localhost PORT 50000;\n",
    "%sql select cust_cc_number, db2inst1.MASK_CARD(cust_cc_number) from GOSALESCT.CUST_CRDT_CARD fetch first 5 rows only"
   ]
  },
  {
   "cell_type": "code",
   "execution_count": 104,
   "metadata": {},
   "outputs": [
    {
     "name": "stdout",
     "output_type": "stream",
     "text": [
      "Connection closed.\n",
      "Connection successful.\n"
     ]
    },
    {
     "data": {
      "text/html": [
       "<div>\n",
       "<style scoped>\n",
       "    .dataframe tbody tr th:only-of-type {\n",
       "        vertical-align: middle;\n",
       "    }\n",
       "\n",
       "    .dataframe tbody tr th {\n",
       "        vertical-align: top;\n",
       "    }\n",
       "\n",
       "    .dataframe thead th {\n",
       "        text-align: right;\n",
       "    }\n",
       "</style>\n",
       "<table border=\"1\" class=\"dataframe\">\n",
       "  <thead>\n",
       "    <tr style=\"text-align: right;\">\n",
       "      <th></th>\n",
       "      <th>CUST_CC_NUMBER</th>\n",
       "      <th>2</th>\n",
       "    </tr>\n",
       "  </thead>\n",
       "  <tbody>\n",
       "    <tr>\n",
       "      <th>0</th>\n",
       "      <td>5298765461884536                              ...</td>\n",
       "      <td>5298765411884536                              ...</td>\n",
       "    </tr>\n",
       "    <tr>\n",
       "      <th>1</th>\n",
       "      <td>5598765426519067                              ...</td>\n",
       "      <td>5598765466519067                              ...</td>\n",
       "    </tr>\n",
       "    <tr>\n",
       "      <th>2</th>\n",
       "      <td>5498765452595818                              ...</td>\n",
       "      <td>5498765492595818                              ...</td>\n",
       "    </tr>\n",
       "    <tr>\n",
       "      <th>3</th>\n",
       "      <td>4998765444282028                              ...</td>\n",
       "      <td>4998765484282028                              ...</td>\n",
       "    </tr>\n",
       "    <tr>\n",
       "      <th>4</th>\n",
       "      <td>9998765460293064                              ...</td>\n",
       "      <td>9998765410293064                              ...</td>\n",
       "    </tr>\n",
       "  </tbody>\n",
       "</table>\n",
       "</div>"
      ],
      "text/plain": [
       "                                      CUST_CC_NUMBER  \\\n",
       "0  5298765461884536                              ...   \n",
       "1  5598765426519067                              ...   \n",
       "2  5498765452595818                              ...   \n",
       "3  4998765444282028                              ...   \n",
       "4  9998765460293064                              ...   \n",
       "\n",
       "                                                   2  \n",
       "0  5298765411884536                              ...  \n",
       "1  5598765466519067                              ...  \n",
       "2  5498765492595818                              ...  \n",
       "3  4998765484282028                              ...  \n",
       "4  9998765410293064                              ...  "
      ]
     },
     "execution_count": 104,
     "metadata": {},
     "output_type": "execute_result"
    }
   ],
   "source": [
    "%sql CONNECT RESET\n",
    "%sql CONNECT TO sample USER db2inst1 USING ibmdb2aa HOST localhost PORT 50000;\n",
    "%sql select cust_cc_number, db2inst1.MASK_CARD(cust_cc_number) from GOSALESCT.CUST_CRDT_CARD fetch first 5 rows only"
   ]
  },
  {
   "cell_type": "code",
   "execution_count": 9,
   "metadata": {},
   "outputs": [
    {
     "name": "stdout",
     "output_type": "stream",
     "text": [
      "Connection closed.\n",
      "Connection successful.\n"
     ]
    }
   ],
   "source": [
    "%sql CONNECT RESET\n",
    "%sql CONNECT TO sample USER bob USING password HOST localhost PORT 50000;"
   ]
  },
  {
   "cell_type": "code",
   "execution_count": 12,
   "metadata": {},
   "outputs": [
    {
     "data": {
      "text/html": [
       "<div>\n",
       "<style scoped>\n",
       "    .dataframe tbody tr th:only-of-type {\n",
       "        vertical-align: middle;\n",
       "    }\n",
       "\n",
       "    .dataframe tbody tr th {\n",
       "        vertical-align: top;\n",
       "    }\n",
       "\n",
       "    .dataframe thead th {\n",
       "        text-align: right;\n",
       "    }\n",
       "</style>\n",
       "<table border=\"1\" class=\"dataframe\">\n",
       "  <thead>\n",
       "    <tr style=\"text-align: right;\">\n",
       "      <th></th>\n",
       "      <th>CUST_CC_ID</th>\n",
       "      <th>CUST_CC_NUMBER</th>\n",
       "    </tr>\n",
       "  </thead>\n",
       "  <tbody>\n",
       "    <tr>\n",
       "      <th>0</th>\n",
       "      <td>10000</td>\n",
       "      <td>5298765461884536                              ...</td>\n",
       "    </tr>\n",
       "    <tr>\n",
       "      <th>1</th>\n",
       "      <td>10001</td>\n",
       "      <td>5598765426519067                              ...</td>\n",
       "    </tr>\n",
       "    <tr>\n",
       "      <th>2</th>\n",
       "      <td>10002</td>\n",
       "      <td>5498765452595818                              ...</td>\n",
       "    </tr>\n",
       "    <tr>\n",
       "      <th>3</th>\n",
       "      <td>10003</td>\n",
       "      <td>4998765444282028                              ...</td>\n",
       "    </tr>\n",
       "    <tr>\n",
       "      <th>4</th>\n",
       "      <td>10004</td>\n",
       "      <td>9998765460293064                              ...</td>\n",
       "    </tr>\n",
       "  </tbody>\n",
       "</table>\n",
       "</div>"
      ],
      "text/plain": [
       "   CUST_CC_ID                                     CUST_CC_NUMBER\n",
       "0       10000  5298765461884536                              ...\n",
       "1       10001  5598765426519067                              ...\n",
       "2       10002  5498765452595818                              ...\n",
       "3       10003  4998765444282028                              ...\n",
       "4       10004  9998765460293064                              ..."
      ]
     },
     "execution_count": 12,
     "metadata": {},
     "output_type": "execute_result"
    }
   ],
   "source": [
    "%sql -a select CUST_CC_ID, cust_cc_number from GOSALESCT.CUST_CRDT_CARD fetch first 5 rows only"
   ]
  },
  {
   "cell_type": "code",
   "execution_count": 102,
   "metadata": {},
   "outputs": [
    {
     "name": "stdout",
     "output_type": "stream",
     "text": [
      "Connection closed.\n",
      "Connection successful.\n"
     ]
    }
   ],
   "source": [
    "%sql CONNECT RESET\n",
    "%sql CONNECT TO sample USER testdata USING password HOST localhost PORT 50000;"
   ]
  },
  {
   "cell_type": "code",
   "execution_count": 103,
   "metadata": {},
   "outputs": [
    {
     "data": {
      "text/html": [
       "<div>\n",
       "<style scoped>\n",
       "    .dataframe tbody tr th:only-of-type {\n",
       "        vertical-align: middle;\n",
       "    }\n",
       "\n",
       "    .dataframe tbody tr th {\n",
       "        vertical-align: top;\n",
       "    }\n",
       "\n",
       "    .dataframe thead th {\n",
       "        text-align: right;\n",
       "    }\n",
       "</style>\n",
       "<table border=\"1\" class=\"dataframe\">\n",
       "  <thead>\n",
       "    <tr style=\"text-align: right;\">\n",
       "      <th></th>\n",
       "      <th>CUST_CC_ID</th>\n",
       "      <th>CUST_CC_NUMBER</th>\n",
       "    </tr>\n",
       "  </thead>\n",
       "  <tbody>\n",
       "    <tr>\n",
       "      <th>0</th>\n",
       "      <td>10000</td>\n",
       "      <td>5298765411884536                              ...</td>\n",
       "    </tr>\n",
       "    <tr>\n",
       "      <th>1</th>\n",
       "      <td>10001</td>\n",
       "      <td>5598765466519067                              ...</td>\n",
       "    </tr>\n",
       "    <tr>\n",
       "      <th>2</th>\n",
       "      <td>10002</td>\n",
       "      <td>5498765492595818                              ...</td>\n",
       "    </tr>\n",
       "    <tr>\n",
       "      <th>3</th>\n",
       "      <td>10003</td>\n",
       "      <td>4998765484282028                              ...</td>\n",
       "    </tr>\n",
       "    <tr>\n",
       "      <th>4</th>\n",
       "      <td>10004</td>\n",
       "      <td>9998765410293064                              ...</td>\n",
       "    </tr>\n",
       "  </tbody>\n",
       "</table>\n",
       "</div>"
      ],
      "text/plain": [
       "   CUST_CC_ID                                     CUST_CC_NUMBER\n",
       "0       10000  5298765411884536                              ...\n",
       "1       10001  5598765466519067                              ...\n",
       "2       10002  5498765492595818                              ...\n",
       "3       10003  4998765484282028                              ...\n",
       "4       10004  9998765410293064                              ..."
      ]
     },
     "execution_count": 103,
     "metadata": {},
     "output_type": "execute_result"
    }
   ],
   "source": [
    "%%sql \n",
    "select CUST_CC_ID, cust_cc_number\n",
    "  from GOSALESCT.CUST_CRDT_CARD \n",
    "    fetch first 5 rows only"
   ]
  },
  {
   "cell_type": "code",
   "execution_count": 59,
   "metadata": {},
   "outputs": [
    {
     "data": {
      "text/html": [
       "<div>\n",
       "<style scoped>\n",
       "    .dataframe tbody tr th:only-of-type {\n",
       "        vertical-align: middle;\n",
       "    }\n",
       "\n",
       "    .dataframe tbody tr th {\n",
       "        vertical-align: top;\n",
       "    }\n",
       "\n",
       "    .dataframe thead th {\n",
       "        text-align: right;\n",
       "    }\n",
       "</style>\n",
       "<table border=\"1\" class=\"dataframe\">\n",
       "  <thead>\n",
       "    <tr style=\"text-align: right;\">\n",
       "      <th></th>\n",
       "      <th>1</th>\n",
       "    </tr>\n",
       "  </thead>\n",
       "  <tbody>\n",
       "    <tr>\n",
       "      <th>0</th>\n",
       "      <td>123457789012345                               ...</td>\n",
       "    </tr>\n",
       "  </tbody>\n",
       "</table>\n",
       "</div>"
      ],
      "text/plain": [
       "                                                   1\n",
       "0  123457789012345                               ..."
      ]
     },
     "execution_count": 59,
     "metadata": {},
     "output_type": "execute_result"
    }
   ],
   "source": [
    "%sql select MASK_CARD('123453789012345                                          ') from sysibm.sysdummy1"
   ]
  },
  {
   "cell_type": "code",
   "execution_count": null,
   "metadata": {},
   "outputs": [],
   "source": []
  },
  {
   "cell_type": "code",
   "execution_count": 13,
   "metadata": {},
   "outputs": [
    {
     "name": "stdout",
     "output_type": "stream",
     "text": [
      "Connection successful.\n"
     ]
    }
   ],
   "source": [
    "%sql connect reset;"
   ]
  },
  {
   "cell_type": "code",
   "execution_count": null,
   "metadata": {},
   "outputs": [],
   "source": []
  }
 ],
 "metadata": {
  "anaconda-cloud": {},
  "kernelspec": {
   "display_name": "Python 3",
   "language": "python",
   "name": "python3"
  },
  "language_info": {
   "codemirror_mode": {
    "name": "ipython",
    "version": 3
   },
   "file_extension": ".py",
   "mimetype": "text/x-python",
   "name": "python",
   "nbconvert_exporter": "python",
   "pygments_lexer": "ipython3",
   "version": "3.7.3"
  }
 },
 "nbformat": 4,
 "nbformat_minor": 2
}
