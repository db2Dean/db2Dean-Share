{
 "cells": [
  {
   "cell_type": "markdown",
   "metadata": {},
   "source": [
    "# Get the Token for Service Administrator or User"
   ]
  },
  {
   "cell_type": "markdown",
   "metadata": {},
   "source": [
    "This notebook is called by another notebook that needs a token.  It creates a token for for use by a service administraor who creates and manages services or for use by users who call the services.  \n",
    "\n",
    "### Expected Inputs and Outputs\n",
    "\n",
    "usertype - Notebook expects this variable to be populate with a string depending on the level of authentication expected.  It should have a value of \"admin\" or \"user\".\n",
    "\n",
    "token - If the token is successfully generated, then a string token will be placed in this variable and available to the calling notebook.  If an error occurs then a value of \"TokenNotCreated\" is returned."
   ]
  },
  {
   "cell_type": "markdown",
   "metadata": {},
   "source": [
    "### General\n",
    "Each service is associated with a single SQL statement. Authenticated users of web, mobile, or cloud applications can use these REST endpoints from any REST HTTP client without having to install any Db2 drivers.\n",
    "\n",
    "The Db2 REST server accepts an HTTP request, processes the request body, and returns results in JavaScript Object Notation (JSON).  \n",
    "\n",
    "This notebook is used as example for the db2Dean article for http://www.db2dean.com/Previous/Db2RESTdbUpdates.html\n",
    "\n",
    "You can find more information about this service at: https://www.ibm.com/support/producthub/db2/docs/content/SSEPGG_11.5.0/com.ibm.db2.luw.admin.rest.doc/doc/c_rest.html."
   ]
  },
  {
   "cell_type": "markdown",
   "metadata": {},
   "source": [
    "## Finding the Db2 RESTful Endpoint Service API Documentation\n",
    "The APIs used in this notebook are documented in the container for the endpoint.  If you are running a browser on the host containing the container, you can view the documentation using \"localhost\" host name.  If that is your case then you can view the documentaiton by pasting this  URL into your browser:  https://localhost:50050/docs  Otherwise, you would substitute the remote IP or host name if the container is on another host.  You would also change https to http if you are running the service in http mode."
   ]
  },
  {
   "cell_type": "markdown",
   "metadata": {},
   "source": [
    "## Import the required programming libraries\n",
    "The requests library is the minimum required by Python to construct RESTful service calls. "
   ]
  },
  {
   "cell_type": "code",
   "execution_count": null,
   "metadata": {},
   "outputs": [],
   "source": [
    "import requests"
   ]
  },
  {
   "cell_type": "markdown",
   "metadata": {},
   "source": [
    "## Create the Header File required for getting an authetication token\n",
    "The RESTful call to the Db2 RESTful Endpoint service is contructed and transmitted as JSON. The first part of the JSON structure is the headers that define the content type of the request."
   ]
  },
  {
   "cell_type": "code",
   "execution_count": null,
   "metadata": {},
   "outputs": [],
   "source": [
    "headers = {\n",
    "  \"content-type\": \"application/json\"\n",
    "}"
   ]
  },
  {
   "cell_type": "markdown",
   "metadata": {},
   "source": [
    "## RESTful Host\n",
    "The next part defines where the request is sent to. It provides the location of the RESTful service for our calls.  In my case I was running this notebook on the same machine as the REST Endpoint container was running.  If you are on a different host you would need to replace \"localhost\" with the actual host name or IP.  If you created your Endpoint container using https, then you need to previx the URL with that instead of http."
   ]
  },
  {
   "cell_type": "code",
   "execution_count": null,
   "metadata": {},
   "outputs": [],
   "source": [
    "Db2RESTful = \"http://localhost:50050\""
   ]
  },
  {
   "cell_type": "markdown",
   "metadata": {},
   "source": [
    "## API Authentication Service\n",
    "Each service has its own path in the RESTful call. For authentication we need to point to the `v1/auth` service."
   ]
  },
  {
   "cell_type": "code",
   "execution_count": null,
   "metadata": {},
   "outputs": [],
   "source": [
    "API_Auth = \"/v1/auth\""
   ]
  },
  {
   "cell_type": "markdown",
   "metadata": {},
   "source": [
    "## Authentication\n",
    "To authenticate to the RESTful service you must provide the connection information for the database you want to query along with the database userid and password. You can also provide an expiry time so that the access token that gets returned will be invalidated after that time period.  Note that the dbHost you specify here must be known inside of the Endpoint container.  \n",
    "\n",
    "\n",
    "### Determine type of user for token creation and generate the body with the needed information"
   ]
  },
  {
   "cell_type": "code",
   "execution_count": null,
   "metadata": {},
   "outputs": [],
   "source": [
    "token=\"TokenNotCreated\"\n",
    "try: usertype\n",
    "except NameError: print(\"You must provide a user type\")\n",
    "\n",
    "# Significant block\n",
    "# of code to auhenticate user\n",
    "# before providing a token  \n",
    "\n",
    "if usertype == \"admin\":\n",
    "    dbusername=\"service_admin1\"\n",
    "    dbpassword=\"password\"\n",
    "    print(\"Creating token for the service administrator.\")\n",
    "else:\n",
    "    dbusername=\"service_user1\"\n",
    "    dbpassword=\"password\"\n",
    "    print(\"Creating token for the service user.\")\n",
    "\n",
    "#"
   ]
  },
  {
   "cell_type": "code",
   "execution_count": null,
   "metadata": {},
   "outputs": [],
   "source": [
    "#  Run this cell to create the body of the service call to careate a token that expires in 1 hour\n",
    "\n",
    "body = {\n",
    "  \"dbParms\": {\n",
    "    \"dbHost\": \"172.18.50.240\",\n",
    "    \"dbName\": \"SAMPLE\",\n",
    "    \"dbPort\": 50000,\n",
    "    \"isSSLConnection\": False,\n",
    "    \"username\": dbusername,\n",
    "    \"password\": dbpassword\n",
    "  },\n",
    "  \"expiryTime\": \"1h\"\n",
    "}"
   ]
  },
  {
   "cell_type": "markdown",
   "metadata": {},
   "source": [
    "## API Service\n",
    "When communicating with the RESTful service, you must provide the name of the service that you want to interact with. In this case the authentication service is */v1/auth*.   When the cell below is run, the server will establish a connection to the database server."
   ]
  },
  {
   "cell_type": "code",
   "execution_count": null,
   "metadata": {},
   "outputs": [],
   "source": [
    "try:\n",
    "    response = requests.post(\"{}{}\".format(Db2RESTful,API_Auth), headers=headers, json=body)\n",
    "except Exception as e:\n",
    "    print(\"Unable to call RESTful service. Error={}\".format(repr(e)))"
   ]
  },
  {
   "cell_type": "markdown",
   "metadata": {},
   "source": [
    "A response code of 200 means that the authentication worked properly, otherwise the error that was generated is printed."
   ]
  },
  {
   "cell_type": "code",
   "execution_count": null,
   "metadata": {},
   "outputs": [],
   "source": [
    "print(\"Status of token request.  200=Success\")\n",
    "print(response)\n",
    "print(response.status_code)"
   ]
  },
  {
   "cell_type": "markdown",
   "metadata": {},
   "source": [
    "The response includes a connection token that is reused throughout the rest of this lab. It ensures secure a connection without requiring that you reenter a userid and password with each request.  "
   ]
  },
  {
   "cell_type": "code",
   "execution_count": null,
   "metadata": {},
   "outputs": [],
   "source": [
    "if (response.status_code == 200):\n",
    "  token = response.json()[\"token\"]\n",
    "#  print(\"Token: {}\".format(token))\n",
    "else: \n",
    "  print(response.json())"
   ]
  },
  {
   "cell_type": "code",
   "execution_count": null,
   "metadata": {},
   "outputs": [],
   "source": [
    "print(token)"
   ]
  },
  {
   "cell_type": "markdown",
   "metadata": {},
   "source": [
    "At this point you can copy the above token to the clip board and paste it into the next notebook."
   ]
  }
 ],
 "metadata": {
  "kernelspec": {
   "display_name": "Python 3",
   "language": "python",
   "name": "python3"
  },
  "language_info": {
   "codemirror_mode": {
    "name": "ipython",
    "version": 3
   },
   "file_extension": ".py",
   "mimetype": "text/x-python",
   "name": "python",
   "nbconvert_exporter": "python",
   "pygments_lexer": "ipython3",
   "version": "3.7.3"
  }
 },
 "nbformat": 4,
 "nbformat_minor": 4
}
